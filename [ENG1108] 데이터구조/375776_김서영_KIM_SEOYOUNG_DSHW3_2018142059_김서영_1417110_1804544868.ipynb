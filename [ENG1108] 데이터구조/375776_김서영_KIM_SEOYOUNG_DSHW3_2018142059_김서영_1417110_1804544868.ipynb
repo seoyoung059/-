{
 "cells": [
  {
   "cell_type": "markdown",
   "metadata": {},
   "source": [
    "> ### EEE2020-04: Data Structures & Algorithms\n",
    "\n",
    "# Assignment \\#  III: Lists & Recursion"
   ]
  },
  {
   "cell_type": "markdown",
   "metadata": {},
   "source": [
    "**<div style=\"text-align: right\"> Due date: May 14, 2019. </div>** \n",
    "**<div style=\"text-align: right\"> Please upload your file @ yscec by 9 PM. </div>** \n",
    "<div style=\"text-align: right\"> Youngmin Oh(오영민): <a href=\"mailto:youngmin.oh@yonsei.ac.kr\">youngmin.oh@yonsei.ac.kr</a> </div>\n",
    "<div style=\"text-align: right\"> Sanghoon Lee(이상훈): <a href=\"mailto:sanghslee@yonsei.ac.kr\">sanghslee@yonsei.ac.kr</a> </div>"
   ]
  },
  {
   "cell_type": "markdown",
   "metadata": {},
   "source": [
    "-------------------------------"
   ]
  },
  {
   "cell_type": "markdown",
   "metadata": {},
   "source": [
    "\n",
    "### *Assignment Instructions:*\n",
    "1. Write a program implementing a particular algorithm to solve a given problem.\n",
    "2. You can use both Korean and English for your report.\n",
    "3. **Analyze the algorithm, theoretically and empirically.** \n",
    "4. **Report your results.**  \n",
    "    - You must do assignments and labs yourself. \n",
    "    - <span style=\"color:red\">**Do not copy any part of your friends’ code.**</span>\n",
    "    - Otherwise, you will get a F grade."
   ]
  },
  {
   "cell_type": "markdown",
   "metadata": {},
   "source": [
    "-----------------"
   ]
  },
  {
   "cell_type": "markdown",
   "metadata": {},
   "source": [
    "<h2><span style=\"color:blue\">[2018142059] [김서영]</span> </h2>"
   ]
  },
  {
   "cell_type": "code",
   "execution_count": 1,
   "metadata": {},
   "outputs": [
    {
     "name": "stdout",
     "output_type": "stream",
     "text": [
      "This code is written at 2019-05-13 15:24:06.048257\n"
     ]
    }
   ],
   "source": [
    "import datetime\n",
    "print(\"This code is written at \" + str(datetime.datetime.now()))"
   ]
  },
  {
   "cell_type": "markdown",
   "metadata": {},
   "source": [
    "-------"
   ]
  },
  {
   "cell_type": "markdown",
   "metadata": {},
   "source": [
    "### \\# PROBLEM I (25 POINTS): Circular Linked List Implementation"
   ]
  },
  {
   "cell_type": "markdown",
   "metadata": {},
   "source": [
    "Implement $\\texttt{CLL}$ class using given $\\texttt{Node}$ class.\n",
    "\n",
    "> **Circular Linked List (CLL)** is a <U>linked list</U> where all nodes are connected to form a circle.  \n",
    "> <U>Note that there is no</U> <code>None</code> <U>at the end.</U>  \n",
    "\n",
    "> Figure below is a schematic of a circular linked list.\n",
    "> \n",
    ">![CLL pic](./cl.png)\n",
    "\n",
    "> Your $\\texttt{CLL}$(CircularLinkedList) **must** include following methods:\n",
    "* is_empty(): returns boolean value indicating whether it is empty or not.  \n",
    "* size(): returns number of elements in the list.  \n",
    "* push(item): (returns nothing and) inserts an item at the start of the list.  \n",
    "* display(): (returns nothing and) prints all items in the list."
   ]
  },
  {
   "cell_type": "markdown",
   "metadata": {},
   "source": [
    "**Notice:**  \n",
    "* For full credit:  \n",
    "    * use given $\\texttt{Node}$ class. (Otherwise, you will not get <U>any</U> credit.)  \n",
    "    * return values that are <U>specified</U> in the problem. DO NOT return anything unless mentioned otherwise.    "
   ]
  },
  {
   "cell_type": "code",
   "execution_count": 2,
   "metadata": {},
   "outputs": [],
   "source": [
    "class Node:\n",
    "    def __init__(self, data):\n",
    "        self.data = data\n",
    "        self.next = None\n",
    "        \n",
    "    def get_data(self):\n",
    "        return self.data\n",
    "    \n",
    "    def get_next(self):\n",
    "        return self.next\n",
    "    \n",
    "    def set_data(self, new_data):\n",
    "        self.data = new_data\n",
    "    \n",
    "    def set_next(self, new_next):\n",
    "        self.next = new_next"
   ]
  },
  {
   "cell_type": "markdown",
   "metadata": {},
   "source": [
    "### Answer: "
   ]
  },
  {
   "cell_type": "code",
   "execution_count": 3,
   "metadata": {},
   "outputs": [],
   "source": [
    "class CLL:\n",
    "    def __init__(self):\n",
    "        self.head=None\n",
    "    def is_empty(self):\n",
    "        return self.head==None\n",
    "    def size(self):\n",
    "        cnt=0\n",
    "        current=self.head\n",
    "        if current==None:\n",
    "            return cnt\n",
    "        else:\n",
    "            while current.get_next()!=self.head:\n",
    "                cnt+=1\n",
    "                current=current.get_next()\n",
    "            return cnt+1\n",
    "    def push(self, item):\n",
    "        s=self.size()\n",
    "        temp=Node(item)\n",
    "        temp.set_next(self.head)\n",
    "        self.head=temp\n",
    "        last=self.head\n",
    "        for i in range(s):\n",
    "            last=last.get_next()\n",
    "        last.set_next(temp)\n",
    "            \n",
    "    def display(self):\n",
    "        current=self.head\n",
    "        i=0\n",
    "        s=self.size()\n",
    "        while i<s:\n",
    "            print(current.get_data(), end=\" \")\n",
    "            current=current.get_next()\n",
    "            i+=1\n",
    "        print(\"\")\n",
    "            \n",
    "            "
   ]
  },
  {
   "cell_type": "code",
   "execution_count": 4,
   "metadata": {
    "scrolled": true
   },
   "outputs": [
    {
     "name": "stdout",
     "output_type": "stream",
     "text": [
      "------sanity check-------\n",
      "True\n",
      "False\n",
      "5 4 3 2 1 \n",
      "size:  5\n",
      "6 5 4 3 2 1 \n",
      "size:  6\n"
     ]
    }
   ],
   "source": [
    "# Sanity Check : You DO NOT have to change this code. Just to check that your outputs are appropriate.\n",
    "print('------sanity check-------')\n",
    "cll = CLL()\n",
    "print(cll.is_empty())\n",
    "cll.push(1)\n",
    "cll.push(2)\n",
    "cll.push(3)\n",
    "cll.push(4)\n",
    "cll.push(5)\n",
    "print(cll.is_empty())\n",
    "cll.display()\n",
    "print('size: ', cll.size())\n",
    "\n",
    "cll.push(6)\n",
    "cll.display()\n",
    "print('size: ', cll.size())"
   ]
  },
  {
   "cell_type": "markdown",
   "metadata": {},
   "source": [
    "### Describe your answer: "
   ]
  },
  {
   "cell_type": "markdown",
   "metadata": {},
   "source": [
    "* class CLL\n",
    "    * init\n",
    "        * 초기화하고 self.head를 none으로 지정한다.\n",
    "    * is_empty\n",
    "        * self.head는 list에 요소가 존재할때는 첫번째 요소를 지정하고, 아닐 때는 None이므로 self.head==None의 Boolean 값을 return한다. \n",
    "    * size\n",
    "        * list 내 요소의 개수를 셀 변수 cnt를 지정한다.\n",
    "        * current는 요소를 하나하나 가리킬 변수이므로 첫번째 요소인 self.head를 가르키게 한다.\n",
    "        * list가 비어있을 때 current=None이므로 cnt를 return한다.\n",
    "        * list가 비어있지 않을 때\n",
    "            * list의 마지막 요소의 next는 다시 self.head이므로 current.get_next()가 self.head가 아닐 때 개수를 센다.\n",
    "                * 시행될 때 마다 1을 cnt에 더한다.\n",
    "                * current=current.get_next()로 다음 요소로 넘어가게 한다.\n",
    "                * 이는 리스트의 마지막에서 하나 전의 요소까지 시행된다.\n",
    "            * list의 마지막까지 세어야 하므로 cnt+1을 return한다.\n",
    "    * push\n",
    "        * 새로 넣을 요소의 값 item을 받는다.\n",
    "        * 마지막 요소에서 get.next()하였을 때 새로 집어넣은 요소를 가리켜야 하므로 list의 size를 갖는 변수 s를 지정한다.\n",
    "        * 새로 집어넣는 요소의 값 item을 새로운 node \"temp\"로 생성한다.\n",
    "        * temp의 다음 요소를 현재의 self.head로 지정한다.\n",
    "        * temp를 새로운 self.head로 지정한다.\n",
    "        * 마지막 요소를 가리키기 위한 변수 last를 지정하고, 일단 self.head를 가리키게 한다.\n",
    "            * for문을 사용하여 list의 size s만큼 반복하여 last가 last.get_next()를 받도록 한다.\n",
    "            * 시행이 끝나면 last는 list의 마지막 요소를 가리킨다.\n",
    "        * 마지막 요소 last의 다음 요소를 self.head (새로 넣은 요소 temp)가 되도록 지정한다.\n",
    "            \n",
    "    * display\n",
    "        * current는 요소를 하나하나 가리킬 변수이므로 첫번째 요소인 self.head를 가르키게 한다.\n",
    "        * 변수 i를 0으로, s를 list의 크기 self.size()로 지정한다.\n",
    "        * while문을 사용하여 i<s일 때 동안 반복하도록 한다.\n",
    "            * current의 값을 get_data()하여 print하고 end=\" \"를 사용하여 사이사이에 여백이 들어가도록 한다.\n",
    "            * current가 그 다음 요소를 가리키도록 한다.\n",
    "            * 한번 시행할 때마다 i가 1씩 증가하도록 한다. 반복문은 s번 시행되고 끝난다.\n",
    "        * 모든 요소들을 다 print하면 enter를 print하여 다음 줄로 넘어가도록 한다."
   ]
  },
  {
   "cell_type": "markdown",
   "metadata": {},
   "source": [
    "-------------------------------"
   ]
  },
  {
   "cell_type": "markdown",
   "metadata": {},
   "source": [
    "### \\# PROBLEM II ( 50 POINTS): Doubly Linked List Implementation"
   ]
  },
  {
   "cell_type": "markdown",
   "metadata": {},
   "source": [
    "Implement the following $\\texttt{DoublyLinkedList}$ class.\n",
    "\n",
    "> Figure below is a schematic of a Doubly Linked List\n",
    "\n",
    "![Alt text](./dl.png)\n",
    "\n",
    "> **Doubly Linked List** is a linked list where one can access nodes both from the first node and the last node. Thus, it can efficiently exploit searching algorithms. <br><br> For example, if you want to access the 3rd Node in the above Figure, searching from the head takes 3 steps while from the tail takes <U>only</U> 1 steps.\n",
    "\n",
    "To this end, complete $\\texttt{dNode}$ class beforehand to completing **$\\texttt{DoublyLinkedList}$**.  \n",
    "\n",
    "* NOTE : $\\texttt{dNode}$ has <U>**two 'pointers'**</U> instead of one. \n",
    "<br> $\\;\\quad\\quad$ Thus, You should <U>consider some **changes**</U> different from the orignal $\\texttt{Node}$ class.\n",
    "* NOTE : For $\\texttt{DoublyLinkedList}$, You should refer the following <U>**descriptions**</U>\n",
    "> <br> def $\\texttt{__init__}$(self): # For initialization \n",
    "<br> def $\\texttt{is_empty}$(self): # return True if List is empty, return False otherwise\n",
    "<br> def $\\texttt{size}$(self): # return the size of List\n",
    "<br> def $\\texttt{push_front}$(self,item): # Insert a new Node between the head and the first Node\n",
    "<br> def $\\texttt{pop_front}$(self): # Delete a Node pointed by the head\n",
    "<br> def $\\texttt{push_back}$(self,item): # Insert a new Node between the last Node and the tail\n",
    "<br> def $\\texttt{pop_back}$(self): # Delete a Node pointed by the tail\n",
    "<br>\n",
    "<br> # NOTICE : If 'loc' is out of the size of List, you should raise Error \n",
    "<br> def $\\texttt{insert}$(self,loc,item): # Insert a new Node at 'loc'\n",
    "<br> def $\\texttt{delete}$(self,loc): # Delete the Node at 'loc'\n",
    "<br>\n",
    "<br> def $\\texttt{search_from_front}$(self, item): # Search the Node contains 'item' from the head\n",
    "<br>  # return elapesd steps\n",
    "<br>\n",
    "<br> def $\\texttt{search_from_rear}$(self): # Search the Node contains 'item' from the tail\n",
    "<br>  # return elapesd steps\n",
    "<br>    \n",
    "<br> def $\\texttt{print_from_front}$(self): # Print all data contained by Nodes from the head\n",
    "<br> def $\\texttt{print_from_rear}$(self): # Print all data contained by Nodes from the tail"
   ]
  },
  {
   "cell_type": "markdown",
   "metadata": {},
   "source": [
    "### Answer: "
   ]
  },
  {
   "cell_type": "code",
   "execution_count": 5,
   "metadata": {},
   "outputs": [],
   "source": [
    "class dNode:\n",
    "    def  __𝚒𝚗𝚒𝚝__(self,data):\n",
    "        self.data=data\n",
    "        self.fromhead=None\n",
    "        self.fromtail=None\n",
    "    def get_data(self):\n",
    "        return self.data \n",
    "    def get_hnext(self):\n",
    "        return self.fromhead\n",
    "    def get_tnext(self):\n",
    "        return self.fromtail\n",
    "    def set_data(self, new_data):\n",
    "        self.data = new_data\n",
    "    def set_hnext(self, new_hnext):\n",
    "        self.fromhead = new_hnext\n",
    "    def set_tnext(self, new_tnext):\n",
    "        self.fromtail = new_tnext"
   ]
  },
  {
   "cell_type": "code",
   "execution_count": 6,
   "metadata": {
    "scrolled": false
   },
   "outputs": [],
   "source": [
    "# CODE HERE\n",
    "class DoublyLinkedList:\n",
    "    def __init__(self):\n",
    "        self.head=None\n",
    "        self.tail=None\n",
    "        ###### END ######\n",
    "    def is_empty(self):\n",
    "        return self.head==None\n",
    "        ###### END ######\n",
    "    def size(self):\n",
    "        cnt=0\n",
    "        current=self.head\n",
    "        while current!=None:\n",
    "            cnt+=1\n",
    "            current=current.get_hnext()\n",
    "        return cnt\n",
    "        ###### END ######\n",
    "    def push_front(self, item):\n",
    "        temp=dNode(item)\n",
    "        if self.head==None:\n",
    "            self.tail=temp\n",
    "            self.head=temp\n",
    "        else:\n",
    "            temp.set_hnext(self.head)\n",
    "            self.head.set_tnext(temp)\n",
    "            self.head=temp\n",
    "        ###### END ######\n",
    "    def pop_front(self):\n",
    "        temp=self.head.get_data()\n",
    "        self.head=self.head.get_hnext()\n",
    "        self.head.set_tnext(None)\n",
    "        print('Deleted : ',temp)\n",
    "        ###### END ######\n",
    "    def push_back(self, item):\n",
    "        temp=dNode(item)\n",
    "        if self.tail==None:\n",
    "            self.head=temp\n",
    "            self.tail=temp\n",
    "        else:\n",
    "            temp.set_tnext(self.tail)\n",
    "            self.tail.set_hnext(temp)\n",
    "            self.tail=temp\n",
    "        ###### END ######\n",
    "    def pop_back(self):\n",
    "        temp=self.tail.get_data()\n",
    "        self.tail=self.tail.get_tnext()\n",
    "        self.tail.set_hnext(None)\n",
    "        print('Deleted : ',temp)\n",
    "        ###### END ######\n",
    "    def insert(self,loc,item):\n",
    "        if loc>self.size():\n",
    "            print('ERROR; loc is out of the size of list!')\n",
    "        else:\n",
    "            temp=dNode(item)\n",
    "            current=self.head\n",
    "            for i in range(loc-2):\n",
    "                current=current.get_hnext()\n",
    "            currentnext=current.get_hnext()\n",
    "            currentnext.set_tnext(temp)\n",
    "            current.set_hnext(temp)\n",
    "            temp.set_hnext(currentnext)\n",
    "            temp.set_tnext(current)\n",
    "        ###### END ######\n",
    "    def delete(self,loc):\n",
    "        if loc>self.size():\n",
    "            print('ERROR; loc is out of the size of list!')\n",
    "        else:\n",
    "            current=self.head\n",
    "            for i in range(loc-1):\n",
    "                current=current.get_hnext()\n",
    "            currenthnext=current.get_hnext()\n",
    "            currenttnext=current.get_tnext()\n",
    "            currenttnext.set_hnext(currenthnext)\n",
    "            currenthnext.set_tnext(currenttnext)\n",
    "        ###### END ######\n",
    "    def search_from_front(self,item):\n",
    "        current=self.head\n",
    "        s=self.size()\n",
    "        i=0\n",
    "        found=False\n",
    "        while i<s and found==False:\n",
    "            if current.get_data()==item:\n",
    "                found=True\n",
    "            else:\n",
    "                current=current.get_hnext()\n",
    "            i+=1\n",
    "        if found==True:\n",
    "            print(\"Elapsed step:\",i)\n",
    "        ###### END ######\n",
    "    def search_from_rear(self,item):\n",
    "        current=self.tail\n",
    "        s=self.size()\n",
    "        i=0\n",
    "        found=False\n",
    "        while i<s and found==False:\n",
    "            if current.get_data()==item:\n",
    "                found=True\n",
    "            else:\n",
    "                current=current.get_tnext()\n",
    "            i+=1\n",
    "        if found==True:\n",
    "            print(\"Elapsed step:\",i)\n",
    "        ###### END ######\n",
    "    def print_from_front(self):\n",
    "        current=self.head\n",
    "        s=self.size()\n",
    "        i=0\n",
    "        print(\"Sorted data(Forward):\", end=\" \")\n",
    "        while i<s:\n",
    "            print(current.get_data(), end=\" \")\n",
    "            current=current.get_hnext()\n",
    "            i+=1\n",
    "        print()\n",
    "        ###### END ######\n",
    "    def print_from_rear(self):\n",
    "        current=self.tail\n",
    "        s=self.size()\n",
    "        i=0\n",
    "        print(\"Sorted data(Backward):\", end=\" \")\n",
    "        while i<s:\n",
    "            print(current.get_data(), end=\" \")\n",
    "            current=current.get_tnext()\n",
    "            i+=1\n",
    "        print()\n",
    "        ###### END ######"
   ]
  },
  {
   "cell_type": "code",
   "execution_count": 7,
   "metadata": {
    "scrolled": true
   },
   "outputs": [
    {
     "name": "stdout",
     "output_type": "stream",
     "text": [
      "List Size :  3\n",
      "Deleted :  111\n",
      "List Size :  2\n",
      "List Size :  4\n",
      "Deleted :  23\n",
      "List Size :  7\n",
      "Sorted data(Forward): 5 1 11 123 456 789 369 \n",
      "Sorted data(Backward): 369 789 456 123 11 1 5 \n",
      "Elapsed step: 3\n",
      "Elapsed step: 5\n",
      "Sorted data(Forward): 5 1 hi 11 123 456 789 369 \n",
      "Sorted data(Forward): 5 1 11 123 456 789 369 \n"
     ]
    }
   ],
   "source": [
    "# Sanity Check : You DO NOT have to change this code. Just to check that your outputs are appropriate.\n",
    "mylist=DoublyLinkedList()\n",
    "mylist.push_front(1)\n",
    "mylist.push_front(5)\n",
    "mylist.push_front(111)\n",
    "print('List Size : ',mylist.size())\n",
    "mylist.pop_front()\n",
    "print('List Size : ',mylist.size())\n",
    "mylist.push_back(11)\n",
    "mylist.push_back(23)\n",
    "print('List Size : ',mylist.size())\n",
    "mylist.pop_back()\n",
    "mylist.push_back(123)\n",
    "mylist.push_back(456)\n",
    "mylist.push_back(789)\n",
    "mylist.push_back(369)\n",
    "print('List Size : ',mylist.size())\n",
    "mylist.print_from_front()\n",
    "mylist.print_from_rear()\n",
    "mylist.search_from_front(11)\n",
    "mylist.search_from_rear(11)\n",
    "mylist.insert(3,'hi')\n",
    "mylist.print_from_front()\n",
    "mylist.delete(3)\n",
    "mylist.print_from_front()"
   ]
  },
  {
   "cell_type": "markdown",
   "metadata": {},
   "source": [
    "### Describe your answer: "
   ]
  },
  {
   "cell_type": "markdown",
   "metadata": {},
   "source": [
    "* class dNode\n",
    "    * 𝚒𝚗𝚒𝚝\n",
    "        * dNode를 초기화한다.\n",
    "        * dNode는 스스로의 값과 그 앞의 Node와 뒤의 Node를 각각 지시하는 두 개의 pointer를 갖는다.\n",
    "            * self.data에 요소의 data를 받는다.\n",
    "            * self.fromhead는 list의 앞에서 뒤의 순서로 그 다음 요소를 가리키는 Node이다.\n",
    "            * self.fromtail은 list의 역순으로 그 다음 요소를 가리키는 Node이다\n",
    "    * get_data\n",
    "        * 요소의 data를 return한다.\n",
    "    * get_hnext\n",
    "        * list의 순서대로 그 다음 요소를 return한다.\n",
    "    * get_tnext(self):\n",
    "        * list의 역순으로 그 다음 요소를 return한다.\n",
    "    * set_data(self, new_data):\n",
    "        * 스스로의 data를 new_data로 수정한다.\n",
    "    * set_hnext(self, new_hnext):\n",
    "        * self의 fromhead가 새로운 요소 new_hnext를 가리키게 한다.\n",
    "    * set_tnext(self, new_tnext):\n",
    "        * self의 fromtail이 새로운 요소 new_tnext를 가리키게 한다.\n",
    "        \n",
    "* class DoublyLinkedList:\n",
    "    * init\n",
    "        * list를 초기화한다.\n",
    "        * self.head와 self.tail을 None으로 지정한다.\n",
    "            * self.head는 리스트의 첫번째 요소를, self.tail은 list의 마지막 요소를 지정할 것이다.\n",
    "            * 새로 만든 list이므로 요소가 없어 각각은 None을 지시한다.\n",
    "    * is_empty\n",
    "        * list가 비어 있을때 self.head는 None을 가리키므로 self.head==None의 Boolean을 return한다.\n",
    "    * size\n",
    "        * 요소의 개수를 셀 변수 cnt를 지정한다.\n",
    "        * 현재 세고 있는 요소를 가리킬 변수 current를 지정한다.\n",
    "            * list의 순서대로 셀 것이므로 첫번째 요소인 self.head를 current로 한다.\n",
    "        * while 반복문이 current가 None이 아닐 때 동안 시행을 반복하도록 한다.\n",
    "            * 반복문은 list에 요소가 없을 때, 또는 current가 self.tail의 다음 값(None)을 받을 때 조건을 만족하지 못하고 꺼진다.\n",
    "            * 반복문이 시행 될 때마다 cnt에 1이 더해지도록 한다.\n",
    "            * current가 current의 다음 요소(current.get_next())를 받도록 지정한다.\n",
    "        * cnt를 return 한다.\n",
    "    * push_front\n",
    "        * 새로운 요소가 될 Node temp를 지정하고 그 값을 item으로 한다.\n",
    "        * self.head가 None일 때 (list에 요소가 없을 때)에 대하여\n",
    "            * temp가 list의 첫번째이자 마지막 요소이므로 self.head이자 self.tail이 되도록 지정한다.\n",
    "        * 그 외의 경우에\n",
    "            * temp의 다음 요소를 현재의 self.head로 지정한다.\n",
    "            * 현재의 self.head의 이전 요소(tnext)가 temp가 되도록 .set_tnext()를 이용하여 지정한다.\n",
    "            * temp가 새로운 self.head가 되도록 한다.\n",
    "    * pop_front\n",
    "        * 삭제할 첫번째 요소의 값을 temp에 저장한다\n",
    "        * self.head가 두번째 요소(삭제할 요소의 다음 요소)를 가리키도록 지정한다.\n",
    "        * self.head의 이전 요소를 삭제한다(None을 지정하도록 한다.)\n",
    "        * 삭제한 요소의 값(temp)을 print한다.\n",
    "    * push_back\n",
    "        * 새로운 요소가 될 Node temp를 지정하고 그 값을 item으로 한다.\n",
    "        * self.tail가 None일 때 (list에 요소가 없을 때)에 대하여\n",
    "            * temp가 list의 첫번째이자 마지막 요소이므로 self.head이자 self.tail이 되도록 지정한다.\n",
    "        * 그 외의 경우에\n",
    "            * temp의 이전 요소(tnext)를 현재의 self.tail로 지정한다.\n",
    "            * 현재의 self.tail의 다음 요소(hnext)가 temp가 되도록 .set_hnext를 이용하여 지정한다.\n",
    "            * temp가 새로운 self.head가 되도록 한다.\n",
    "    * pop_back\n",
    "        * 삭제할 마지막 요소의 값을 temp에 저장한다.\n",
    "        * self.tail이 마지막에서 두번째 요소(삭제할 요소의 이전 요소)를 가리키도록 지정한다.\n",
    "        * self.tail의 다음 요소를 삭제한다(None을 지정하도록 한다.)\n",
    "        * 삭제한 요소의 값(temp)를 print한다.\n",
    "    * insert\n",
    "        * self 외에 새로 삽입할 요소의 순서 loc, 요소의 값 item을 받는다.\n",
    "        * loc가 list의 사이즈(self.size())보다 크면 error 메세지를 출력한다.\n",
    "        * 그 외의 경우에\n",
    "            * item의 값을 갖는 새로운 dNode temp를 만든다.\n",
    "            * loc의 위치를 찾기 위한 변수 current를 만들고 self.head로 지정한다.\n",
    "            * for문을 이용하여 range of (loc-2)만큼 반복한다.\n",
    "                * current를 그 다음 요소를 받도록 한다.\n",
    "                * for문이 끝나면 current는 (loc-1)번째 요소를 받는다.\n",
    "            * current의 다음 요소는 새로 들어가는 요소의 다음 요소가 될 것이므로 이를 currentnext의 변수가 가리키도록 한다.\n",
    "            * currentnext의 이전 요소가 temp가 되도록 .set_tnext()로 지정한다.\n",
    "            * current의 다음 요소가 temp가 되도록 .set_hnext()로 지정한다.\n",
    "            * temp의 다음 요소가 currentnext가 되도록 지정한다.\n",
    "            * temp의 이전 요소가 current가 되도록 지정한다.\n",
    "    * delete\n",
    "        * self 외에 새로 삽입할 요소의 순서 loc를 받는다.\n",
    "        * loc가 list의 사이즈(self.size())보다 크면 error 메세지를 출력한다.\n",
    "        * 그 외의 경우에\n",
    "            * loc의 위치를 찾기 위한 변수 current를 만들고 self.head로 지정한다.\n",
    "            * for문을 이용하여 range of (loc-1)만큼 반복한다.\n",
    "                * current를 그 다음 요소를 받도록 한다.\n",
    "                * for문이 끝나면 current는 loc번째 요소를 받는다.\n",
    "            * current의 다음 요소를 .get_hnext를 이용하여 currenthnext로 받는다.\n",
    "            * current의 이전 요소를 .get_tnext를 이용하여 currenttnext로 받는다.\n",
    "            * currenttnext의 다음 요소를 .set_hnext를 이용하여 currenthnext로 설정한다.\n",
    "            * currenthnext의 이전 요소를 .set_tnext를 이용하여 currenttnext로 설정한다.\n",
    "    * search_from_front\n",
    "        * 확인할 요소를 받을 current를 지정하고 순서대로 확인할 것이므로 self.head를 가리키게 한다.\n",
    "        * s에 list의 사이즈를, i에 0을 저장한다.\n",
    "        * found에 False를 저장한다.\n",
    "        * while 반복문이i<s이고 found가 False일 때 시행되도록 한다.\n",
    "            * current의 data가 item과 같을 때\n",
    "                * found를 True로 바꾼다.(Searching이 완료되었으므로 반복문이 종료된다)\n",
    "            * 그 외\n",
    "                * current가 다음 요소를 받도록 한다.\n",
    "            * 반복문이 시행될 때 마다 i가 1씩 커지도록 한다.\n",
    "        * found가 True일 때(Searching에 성공했을 때)\n",
    "            * elapsed step(=i)를 print한다.\n",
    "\n",
    "    * search_from_rear\n",
    "        * 확인할 요소를 받을 current를 지정하고 역순으로 확인할 것이므로 self.tail를 가리키게 한다.\n",
    "        * s에 list의 사이즈를, i에 0을 저장한다.\n",
    "        * found에 False를 저장한다.\n",
    "        * while 반복문이i<s이고 found가 False일 때 시행되도록 한다.\n",
    "            * current의 data가 item과 같을 때\n",
    "                * found를 True로 바꾼다.(Searching이 완료되었으므로 반복문이 종료된다)\n",
    "            * 그 외\n",
    "                * current가 이전 요소를 받도록 한다.\n",
    "            * 반복문이 시행될 때 마다 i가 1씩 커지도록 한다.\n",
    "        * found가 True일 때(Searching에 성공했을 때)\n",
    "            * elapsed step(=i)를 print한다.\n",
    "\n",
    "    * print_from_front\n",
    "        * 변수 current를 지정하고 순서대로 확인할 것이므로 self.head를 가리키도록 한다.\n",
    "        * s에 list의 size를, i에 0을 지정한다.\n",
    "        * Sorted data(Forward): 를 출력한다.\n",
    "        * while 반복문이 i<s를 만족할 동안 시행되도록 한다.\n",
    "            * current의 data를 출력하고, 띄어쓰기로 구분가능하도록 한다.\n",
    "            * current가 다음 요소를 받도록 get_hnext()를 이용한다.\n",
    "            * i가 반복문이 시행될 때 마다 1씩 늘어나도록 한다.\n",
    "        * 반복문이 끝나고 enter를 프린트한다.\n",
    "    * print_from_rear\n",
    "        * 변수 current를 지정하고 역순대로 확인할 것이므로 self.tail를 가리키도록 한다.\n",
    "        * s에 list의 size를, i에 0을 지정한다.\n",
    "        * Sorted data(Backward): 를 출력한다.\n",
    "        * while 반복문이 i<s를 만족할 동안 시행되도록 한다.\n",
    "            * current의 data를 출력하고, 띄어쓰기로 구분가능하도록 한다.\n",
    "            * current가 이전 요소를 받도록 get_tnext()를 이용한다.\n",
    "            * i가 반복문이 시행될 때 마다 1씩 늘어나도록 한다.\n",
    "        * 반복문이 끝나고 enter를 프린트한다.\n",
    "\n"
   ]
  },
  {
   "cell_type": "markdown",
   "metadata": {},
   "source": [
    "-----------"
   ]
  },
  {
   "cell_type": "markdown",
   "metadata": {},
   "source": [
    "### \\# PROBLEM III (25 POINTS): Recursive Algorithms Implementation"
   ]
  },
  {
   "cell_type": "markdown",
   "metadata": {},
   "source": [
    "#### PROBLEM III-(a) (10 POINTS)"
   ]
  },
  {
   "cell_type": "markdown",
   "metadata": {},
   "source": [
    "Implement the following class with **RECURSIVE** $\\texttt{isPrime}$ function.  \n",
    "\n",
    "Below skeleton code specifies methods to be implemented.  "
   ]
  },
  {
   "cell_type": "markdown",
   "metadata": {},
   "source": [
    " <code>    __class Prime()__:\n",
    "\n",
    "        def __init__(self):\n",
    "        # For initialization\n",
    "    \n",
    "        def __reset__(self)\n",
    "        # Reset self.denom as 2\n",
    "    \n",
    "        def isPrime(self, X)\n",
    "        # Returns True if X is a Prime Number. Returns False otherwise.\n",
    "</code>"
   ]
  },
  {
   "cell_type": "markdown",
   "metadata": {},
   "source": [
    "**Notice**:  \n",
    "* A Small Tip For You : Use <code>self.denom</code> to divide _X_  \n",
    "* You may assume that X is a non-negative integer.\n",
    "* You **MUST** use **RECURSION** in <code>isPrime(self, X)</code>"
   ]
  },
  {
   "cell_type": "markdown",
   "metadata": {},
   "source": [
    "### Answer: "
   ]
  },
  {
   "cell_type": "code",
   "execution_count": 8,
   "metadata": {},
   "outputs": [],
   "source": [
    "class Prime():\n",
    "    def __init__(self):\n",
    "        self._reset_()\n",
    "    def _reset_(self):\n",
    "        self.denom=2\n",
    "    def isPrime(self,x):\n",
    "        isp=True\n",
    "        if (self.denom)==x:\n",
    "            self._reset_()\n",
    "            return True \n",
    "        else:\n",
    "            if x%self.denom==0:\n",
    "                return False\n",
    "                self._reset_()\n",
    "            else:\n",
    "                self.denom+=1\n",
    "                return self.isPrime(x)\n"
   ]
  },
  {
   "cell_type": "code",
   "execution_count": 9,
   "metadata": {
    "scrolled": true
   },
   "outputs": [
    {
     "name": "stdout",
     "output_type": "stream",
     "text": [
      "Is 2 is a Prime Number? :  True\n",
      "Is 5 is a Prime Number? :  True\n",
      "Is 15 is a Prime Number? :  False\n",
      "Is 171 is a Prime Number? :  False\n",
      "Is 3129 is a Prime Number? :  False\n"
     ]
    }
   ],
   "source": [
    "# Sanity Check : You DO NOT have to change this code. Just to check that your outputs are appropriate.\n",
    "tmp=Prime()\n",
    "print(\"Is 2 is a Prime Number? : \", tmp.isPrime(2))\n",
    "print(\"Is 5 is a Prime Number? : \", tmp.isPrime(5))\n",
    "print(\"Is 15 is a Prime Number? : \", tmp.isPrime(15))\n",
    "print(\"Is 171 is a Prime Number? : \", tmp.isPrime(171))\n",
    "print(\"Is 3129 is a Prime Number? : \", tmp.isPrime(3129))"
   ]
  },
  {
   "cell_type": "markdown",
   "metadata": {},
   "source": [
    "### Describe your answer: "
   ]
  },
  {
   "cell_type": "markdown",
   "metadata": {},
   "source": [
    "* class Prime()\n",
    "    * init\n",
    "        * 초기화한다.\n",
    "    * reset\n",
    "        * self.denom=2로 초기화한다.\n",
    "    * isPrime(self,x):\n",
    "        * self.denom=x일 때(base)\n",
    "            * self.denom이 2와 같거나 크고 x보다 작을 때의 모든 경우에 대해 나누어떨어지지 않았을 때 시행된다.\n",
    "            * 다음 시행을 위해 self._reset_()하여 self.denom을 초기화한다.\n",
    "            * True를 return한다.\n",
    "        * 그 외\n",
    "            * x를 self.denom으로 나눈 나머지가 0일 때\n",
    "                * self.denom은 1이나 x가 아니므로 x는 Prime Number가 아니다.\n",
    "                * 따라서 그 외의 과정 없이 바로 False를 return한다.\n",
    "                * 다음 시행을 위해 self._reset_()하여 self.denom을 2로 초기화한다.\n",
    "            * 그 외의 경우\n",
    "                * self.denom에 1을 더한다.\n",
    "                * self.isPrime(x)을 return한다.\n",
    "                    * recursion을 통해 새로운 self.denom에 대해 위 시행을 반복한다.\n"
   ]
  },
  {
   "cell_type": "markdown",
   "metadata": {},
   "source": [
    "#### PROBLEM III-(b) (15 POINTS)"
   ]
  },
  {
   "cell_type": "markdown",
   "metadata": {},
   "source": [
    "Implement the following Bisection Method by using **RECURSION**\n",
    "\n",
    "![Alt text](./bm.png)\n",
    "\n",
    "> Bisection Method can find the root(solution) of a given polynomial function.\n",
    "<br> Since this method is inherently iterative, it can be easily implemented by _for_ or _while_ loops.\n",
    "\n",
    "> Inputs for BisectionMethod function are specified as follows:  \n",
    ">> <code>def BisectionMethod(f, x0, x1, prev, tol):\n",
    "    f : a given polynomial function\n",
    "    x0 : a left point\n",
    "    x1 : a right point\n",
    "    prev : a previous result\n",
    "    tol : tolerance\n",
    ">> </code>\n",
    "\n",
    "**If \"abs(previous result - current result)<tol\", the iteration stops and returns the result (solution)**  \n",
    "\n",
    "\n",
    "Refer to <a href=\"https://en.wikipedia.org/wiki/Bisection_method\">HERE</a> for details on Bisection Method.  "
   ]
  },
  {
   "cell_type": "markdown",
   "metadata": {},
   "source": [
    "### Answer: "
   ]
  },
  {
   "cell_type": "code",
   "execution_count": 10,
   "metadata": {},
   "outputs": [],
   "source": [
    "def f1(x):\n",
    "    return (x-1)**2 - 1\n",
    "def f2(x):\n",
    "    return x**3 + 3*x**2 - 6*x + 2"
   ]
  },
  {
   "cell_type": "code",
   "execution_count": 11,
   "metadata": {},
   "outputs": [],
   "source": [
    "def BisectionMethod(f,a,b,prev,tol):\n",
    "    c=(a+b)/2\n",
    "    if abs(prev-c)<tol:\n",
    "        return c\n",
    "    else:    \n",
    "        if f(c)*f(a)<=0:\n",
    "            return BisectionMethod(f,a,c,c,tol)\n",
    "        elif f(c)*f(b)<=0:\n",
    "            return BisectionMethod(f,c,b,c,tol)"
   ]
  },
  {
   "cell_type": "code",
   "execution_count": 12,
   "metadata": {},
   "outputs": [
    {
     "name": "stdout",
     "output_type": "stream",
     "text": [
      "The solution of x^2 - 2x is  1.9999999990686774\n",
      "The solution of x^3 +3x^2 - 6x + 2 is  -4.449489740654826\n"
     ]
    }
   ],
   "source": [
    "# Sanity Check : You DO NOT have to change this code. Just to check that your outputs are appropriate.\n",
    "sol1=BisectionMethod(f1,1,10,1e8,1e-8)\n",
    "sol2=BisectionMethod(f2,-5,5,1e8,1e-8)\n",
    "if f1(sol1) < 1e-7:\n",
    "    print('The solution of x^2 - 2x is ', sol1)\n",
    "if f2(sol2) < 1e-7:\n",
    "    print('The solution of x^3 +3x^2 - 6x + 2 is ', sol2)"
   ]
  },
  {
   "cell_type": "markdown",
   "metadata": {},
   "source": [
    "### Describe your answer: "
   ]
  },
  {
   "cell_type": "markdown",
   "metadata": {},
   "source": [
    "* BisectionMethod\n",
    "    * 지시된 대로 값들을 받는다\n",
    "        * a는 left point, b는 right point, prev는 이전 단계의 c tol은 처음에 주어지는 값이다.\n",
    "    * 새로운 midpoint c=(a+b)/2를 정의한다.\n",
    "    * prev(이전 단계의 c)와 c의 차가 tol보다 작을 때\n",
    "        * c를 return한다.\n",
    "    * 그 외의 경우 (tol을 만족하지 못할 때)    \n",
    "        * f(a)와 f(c)의 부호가 다를 때(f(a) * f(c)<0일 때)\n",
    "            * 왼쪽 구간(a~c)에 근이 존재함을 알 수 있다.\n",
    "            * a=a, b=c, prev=c로 하는 BisectionMethod를 recursion한다.\n",
    "            * tol은 이전의 값을 그대로 따른다.\n",
    "        * f(b)와 f(c)의 부호가 다를 때(f(b) * f(c)<0일 때)\n",
    "            * 오른쪽 구간(c~b)에 근이 존재함을 알 수 있다.\n",
    "            * a=c, b=b, prev=c로 하는 BisectionMethod를 recursion한다.\n",
    "            * tol은 이전의 값을 그대로 따른다."
   ]
  },
  {
   "cell_type": "markdown",
   "metadata": {},
   "source": [
    "--------"
   ]
  },
  {
   "cell_type": "code",
   "execution_count": null,
   "metadata": {},
   "outputs": [],
   "source": []
  },
  {
   "cell_type": "code",
   "execution_count": null,
   "metadata": {},
   "outputs": [],
   "source": []
  }
 ],
 "metadata": {
  "anaconda-cloud": {},
  "kernelspec": {
   "display_name": "Python 3",
   "language": "python",
   "name": "python3"
  },
  "language_info": {
   "codemirror_mode": {
    "name": "ipython",
    "version": 3
   },
   "file_extension": ".py",
   "mimetype": "text/x-python",
   "name": "python",
   "nbconvert_exporter": "python",
   "pygments_lexer": "ipython3",
   "version": "3.7.1"
  }
 },
 "nbformat": 4,
 "nbformat_minor": 1
}
