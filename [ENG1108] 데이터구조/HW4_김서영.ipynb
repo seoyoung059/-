{
 "cells": [
  {
   "cell_type": "markdown",
   "metadata": {},
   "source": [
    "> ### EEE2020-04: Data Structures & Algorithms\n",
    "\n",
    "# Assignment \\# IV: Searching & Sorting"
   ]
  },
  {
   "cell_type": "markdown",
   "metadata": {},
   "source": [
    "**<div style=\"text-align: right\"> Due date: June 3, 2019. </div>** \n",
    "**<div style=\"text-align: right\"> Please upload your file @ yscec by 9 PM. </div>** \n",
    "<div style=\"text-align: right\"> Youngmin Oh(오영민): <a href=\"mailto:youngmin.oh@yonsei.ac.kr\">youngmin.oh@yonsei.ac.kr</a> </div>\n",
    "<div style=\"text-align: right\"> Sanghoon Lee(이상훈): <a href=\"mailto:sanghslee@yonsei.ac.kr\">sanghslee@yonsei.ac.kr</a> </div>"
   ]
  },
  {
   "cell_type": "markdown",
   "metadata": {},
   "source": [
    "-------------------------------"
   ]
  },
  {
   "cell_type": "markdown",
   "metadata": {},
   "source": [
    "\n",
    "### *Assignment Instructions:*\n",
    "1. Write a program implementing a particular algorithm to solve a given problem.\n",
    "2. You can use both Korean and English for your report.\n",
    "3. **Analyze the algorithm, theoretically and empirically.** \n",
    "4. **Report your results.**  \n",
    "5. <span style=\"color:red\">**DO NOT**</span> alter **any** sanity check codes.  \n",
    "    - You must do assignments and labs yourself. \n",
    "    - <span style=\"color:red\">**Do not copy any part of your friends’ code.**</span>\n",
    "    - Otherwise, you will get a F grade."
   ]
  },
  {
   "cell_type": "markdown",
   "metadata": {},
   "source": [
    "-----------------"
   ]
  },
  {
   "cell_type": "markdown",
   "metadata": {},
   "source": [
    "<h2><span style=\"color:blue\">[2018142059] [김서영]</span> </h2>"
   ]
  },
  {
   "cell_type": "code",
   "execution_count": 7,
   "metadata": {},
   "outputs": [
    {
     "name": "stdout",
     "output_type": "stream",
     "text": [
      "This code is written at 2019-05-28 14:55:52.803461\n"
     ]
    }
   ],
   "source": [
    "import datetime\n",
    "print(\"This code is written at \" + str(datetime.datetime.now()))"
   ]
  },
  {
   "cell_type": "markdown",
   "metadata": {},
   "source": [
    "-------------------------------"
   ]
  },
  {
   "cell_type": "markdown",
   "metadata": {},
   "source": [
    "### PROBLEM I: Hashing (30 Points)"
   ]
  },
  {
   "cell_type": "markdown",
   "metadata": {},
   "source": [
    "Implement $\\texttt{ChainHashTable}$ using basic $\\texttt{List}$ .\n",
    "\n",
    "> As mentioned in our Lecture notes,  \n",
    "> (vanilla)HashTable requires <U>reshash technique</U> to prevent **collision** between items that have identical hash value(s).\n",
    ">\n",
    "> $\\texttt{ChainHashTable}$ settles collision by allowing multiple items be carried in a single slot, namely **'Chaining'**.  \n",
    "> Details can be found in our Lecture Note 10 p.47(collision), p.58-61(chaining).  \n",
    "\n",
    "Specifically, we will exploit basic $\\texttt{List}$ to implement $\\texttt{ChainHashTable}$ in this problem.  "
   ]
  },
  {
   "cell_type": "markdown",
   "metadata": {},
   "source": [
    "Inputs and outputs of $\\texttt{ChainHashTable}$ are specified as follows:  \n",
    "* <code>init()</code>: constructs an empty HashTable.\n",
    "* <code>put(key, data)</code>: puts data in HashTable according to its given key value (and returns nothing).\n",
    "* <code>hash_function(key, slot_size)</code>: returns hash value of given key value.\n",
    "* <code>get(key)</code>: returns <U>all</U> data stored in HashTable under given key value.\n",
    "* <code>\\_\\_len\\_\\_()</code>: returns total number of data in HashTable.\n",
    "* <code>\\_\\_contains\\_\\_(data)</code>: returns boolean value indicating whether 'data' is in HashTable.\n",
    "* <code>remove(data)</code>: deletes the data in HashTable (only if it exists)."
   ]
  },
  {
   "cell_type": "markdown",
   "metadata": {},
   "source": [
    "\n",
    "> Additional Instructions and Tips:\n",
    "> * When a new item is assigned to a slot, the <U>**latest**</U> item should be at the <U>**front**</U> of the list under its <code>key</code> value.\n",
    "> * We will overload <code>\\_\\_contains\\_\\_</code> method in order to use <code>in</code>.  \n",
    "> * Note that there is no 'slots' in $\\texttt{ChainHashTable}$. \n",
    "> * You may assume that <code>key</code> value is always <code>int</code> type.\n",
    "\n",
    "> For further study, refer to [HERE](https://ratsgo.github.io/data%20structure&algorithm/2017/10/25/hash/) for additional explanation about **Collision** and **Chaining**."
   ]
  },
  {
   "cell_type": "markdown",
   "metadata": {},
   "source": [
    "### Answer:"
   ]
  },
  {
   "cell_type": "code",
   "execution_count": 1,
   "metadata": {},
   "outputs": [],
   "source": [
    "class ChainHashTable:\n",
    "    def __init__(self, size=10):\n",
    "        self.size = size\n",
    "        self.table = [None for i in range(size)]\n",
    "            \n",
    "    def put(self, key, data):\n",
    "        n=self.hash_function(key, self.size)\n",
    "        \n",
    "        if self.table[n]==None:\n",
    "            self.table[n]=[]\n",
    "        self.table[n].insert(0,data)\n",
    "        \n",
    "    def hash_function(self, key, size):\n",
    "        return key%size\n",
    "\n",
    "    def get(self, key):\n",
    "        return self.table[key]\n",
    "    \n",
    "    def __len__(self):\n",
    "        cnt=0\n",
    "        for i in range(self.size):\n",
    "            if self.table[i]!=None:\n",
    "                cnt=cnt+len(self.table[i])\n",
    "        return cnt\n",
    "    \n",
    "    def __contains__(self, data):\n",
    "        found=False\n",
    "        for i in range(self.size):\n",
    "            if self.table[i]!=None:\n",
    "                for j in self.table[i]:\n",
    "                    if j==data:\n",
    "                        found=True\n",
    "        return found\n",
    "               \n",
    "    def remove(self, data):\n",
    "        found=False\n",
    "        for i in range(self.size):\n",
    "            if self.table[i]!=None:\n",
    "                for j in self.table[i]:\n",
    "                    if j==data:\n",
    "                        found=True\n",
    "                if found==True:\n",
    "                    self.table[i].remove(data)\n",
    "                    break\n",
    "\n",
    "    def __getitem__(self, key):\n",
    "        return self.get(key)\n",
    "                   \n",
    "    def __setitem__(self, key, data): \n",
    "        self.put(key, data)\n",
    "        "
   ]
  },
  {
   "cell_type": "code",
   "execution_count": 2,
   "metadata": {
    "scrolled": true
   },
   "outputs": [
    {
     "name": "stdout",
     "output_type": "stream",
     "text": [
      "-----------sanity check-------------\n",
      "\n",
      "[None, ['giraffe', 'zebra', 'horse'], ['jaguar', 'cat', 'lion'], ['maltese', 'retriever', 'dog'], ['porsche', 'car', 'jaguar', 'bentley'], None, None, ['adidas', 'sports', 'nike'], None, None]\n",
      "check hash function(9): 9\n",
      "length of h(16): 16\n",
      "True: True\n",
      "False: False\n",
      "[None, ['giraffe', 'zebra', 'horse'], ['jaguar', 'cat', 'lion'], ['retriever', 'dog'], ['porsche', 'car', 'jaguar'], None, None, ['adidas', 'sports', 'nike'], None, None]\n",
      "length of h(14): 14\n",
      "True: True\n",
      "True: True\n",
      "False: False\n"
     ]
    }
   ],
   "source": [
    "### sanity check code ###\n",
    "h = ChainHashTable()\n",
    "\n",
    "h[57] = 'nike'; h[1] = 'horse'; h[42] = 'lion'; h[121] = 'zebra'; h[51] = 'giraffe'; h[2] = 'cat'; h[152] = 'jaguar'; h[44] = 'bentley'; h[94] = 'jaguar'\n",
    "h[3] = 'dog'; h[5213] = 'retriever'; h[43] = 'maltese'; h[7] = 'sports'; h[4] = 'car'; h[64] = 'porsche'; h[97] = 'adidas'\n",
    "\n",
    "print('-----------sanity check-------------')\n",
    "print('')\n",
    "\n",
    "print(h.table)\n",
    "print('check hash function(9):',h.hash_function(19, 10))\n",
    "print('length of h(16):', len(h))\n",
    "print('True:', 'bentley' in h)\n",
    "print('False:', 'puma' in h)\n",
    "h.remove('bentley')\n",
    "h.remove('maltese')\n",
    "print(h.table)\n",
    "print('length of h(14):', len(h))\n",
    "print('True:', 'porsche' in h)\n",
    "print('True:', 'jaguar' in h)\n",
    "print('False:', 'puma' in h)"
   ]
  },
  {
   "cell_type": "markdown",
   "metadata": {},
   "source": [
    "### Description:"
   ]
  },
  {
   "cell_type": "markdown",
   "metadata": {},
   "source": [
    "* ChainHashTable\n",
    "    * init (초기화)\n",
    "        * size값을 지정받는다.\n",
    "        * self.table: 모든 요소가 None인 self.size로 지정된 size의 list\n",
    "    * put\n",
    "        * key값과 data값을 받는다.\n",
    "        * self.hash_function을 사용해서 key값을 들어갈 hash의 값으로 변환한다.\n",
    "        * 만약 들어갈 hash가 요소가 없어 None이라면, 빈 list를 새로 만든다.\n",
    "        * hash의 list에 data를 insert로 제일 앞에 넣는다.\n",
    "    * hash_function\n",
    "        * key값을 hash값으로 변환한다.\n",
    "    * get\n",
    "        * 주어진 key값 하에 있는 모든 data를 return한다.\n",
    "    * len\n",
    "        * hash function에 들은 모든 data의 수를 세서 return한다.\n",
    "        * hash의 list의 길이를 거듭해서 더한다.\n",
    "    * contains\n",
    "        * table 내에 입력받은 data를 갖는 요소가 있는지 확인한다.\n",
    "    * remove\n",
    "        * 입력받은 요소를 찾아 이를 삭제한다.\n",
    "    \n",
    "    \n",
    "    \n",
    "    \n",
    "    "
   ]
  },
  {
   "cell_type": "markdown",
   "metadata": {},
   "source": [
    "-----------------"
   ]
  },
  {
   "cell_type": "markdown",
   "metadata": {},
   "source": [
    "### PROBLEM II: Sorting I (30 Points)"
   ]
  },
  {
   "cell_type": "markdown",
   "metadata": {},
   "source": [
    "Suppose you are now a data scientist and given $\\underline{N}$ points in a 2-D Cartesian Coordinate System from your experiment. \n",
    "<br>\n",
    "<br>\n",
    "To analyze this data, You want to SORT them in $\\texttt{ascending}$ order of 'X' coordinates.\n",
    "If there are the same 'X' coordinates points, You dicide to sort them in $\\texttt{desending}$ order of 'Y' coordinates.\n",
    "> For example, given (0,1) , (1, 2) , (-3, 5) , (0, 11)\n",
    "$\\rightarrow$ (-3, 5) , (0, 11) , (0, 1) , (1, 2)\n",
    "\n",
    "\n",
    "<br>\n",
    "<br>\n",
    "\n",
    "To this end,\n",
    "- Implement $\\texttt{(1) Bubble Sort}$ , $\\texttt{(2) Insertion Sort}$ and $\\texttt{(3) Merge Sort}$\n",
    "- Compare their $\\texttt{Complexity}$ by plotting the graphs $\\underline{Elapsed\\;time}$ versus $\\underline{N}$ \n",
    "- Discuss your results\n",
    "\n",
    "<br>\n",
    "$\\mathbf{NOTICE}$ : Do Not Use any pre-built Sorting Library. ( e.g. sorted() or numpy.sort() ) "
   ]
  },
  {
   "cell_type": "markdown",
   "metadata": {},
   "source": [
    "### Answer:"
   ]
  },
  {
   "cell_type": "code",
   "execution_count": 3,
   "metadata": {},
   "outputs": [],
   "source": [
    "import numpy as np\n",
    "import matplotlib.pyplot as plt\n",
    "from time import time\n",
    "\n",
    "class Sorting():\n",
    "    def __init__(self):\n",
    "        pass\n",
    "    def __gen_coords__(self, N=10):\n",
    "        return np.random.randint(-N,N,(N,2))\n",
    "    def bubble_sort(self, coords):\n",
    "        for i in range(coords.size//2-1,0,-1):\n",
    "            for j in range (i):\n",
    "                if coords[j][0] > coords[j + 1][0]:\n",
    "                    for k in range(2):\n",
    "                        temp = coords[j][k]\n",
    "                        coords[j][k] = coords[j + 1][k]\n",
    "                        coords[j + 1][k] = temp\n",
    "                elif coords[j][0]==coords[j+1][0]:\n",
    "                    if coords[j][1]<coords[j+1][1]:\n",
    "                        temp = coords[j+1][1]\n",
    "                        coords[j+1][1] = coords[j][1]\n",
    "                        coords[j][1] = temp\n",
    "        return coords\n",
    "    def insert_sort(self, coords):\n",
    "        for i in range(coords.size//2):\n",
    "            fin=False\n",
    "            current0=coords[i][0]\n",
    "            current1=coords[i][1]\n",
    "            position=i\n",
    "            while position>0 and coords[position-1][0]>=current0:\n",
    "                if coords[position-1][0]>current0:\n",
    "                    for k in range(2):\n",
    "                        coords[position][k] = coords[position - 1][k]\n",
    "                    \n",
    "                elif coords[position-1][0]==current0 and coords[position-1][1]<current1:\n",
    "                        coords[position][1] = coords[position - 1][1]\n",
    "                else:\n",
    "                    fin=True\n",
    "                    break\n",
    "                position=position-1\n",
    "            coords[position][0]=current0\n",
    "            coords[position][1]=current1\n",
    "        return coords\n",
    "    def merge_sort(self, coords): \n",
    "        if (coords.size//2) > 1:\n",
    "            mid = (coords.size//2) // 2\n",
    "            left_half = coords[:mid]\n",
    "            right_half = coords[mid:]            \n",
    "            self.merge_sort(left_half)\n",
    "            self.merge_sort(right_half)\n",
    "            lc=left_half.copy()\n",
    "            rc=right_half.copy()\n",
    "        \n",
    "            i=0 \n",
    "            j=0 \n",
    "            k=0\n",
    "        \n",
    "            while i < (left_half.size//2) and j < (right_half.size//2): \n",
    "                if lc[i][0] < rc[j][0]:\n",
    "                    coords[k][0] = lc[i][0]\n",
    "                    coords[k][1] = lc[i][1]\n",
    "                    i=i+1\n",
    "                \n",
    "                elif lc[i][0]==rc[j][0]:\n",
    "                    if lc[i][1]>rc[j][1]:\n",
    "                        coords[k][0] = lc[i][0]\n",
    "                        coords[k][1] = lc[i][1]\n",
    "                        i=i+1\n",
    "                    else:\n",
    "                        coords[k][0] = rc[j][0]\n",
    "                        coords[k][1] = rc[j][1]\n",
    "                        j=j+1\n",
    "                \n",
    "                else:\n",
    "                    coords[k][0] = rc[j][0]\n",
    "                    coords[k][1] = rc[j][1]\n",
    "                    j=j+1 \n",
    "                k=k+1\n",
    "                \n",
    "            while i < (left_half.size//2): \n",
    "                coords[k][0] = lc[i][0]\n",
    "                coords[k][1] = lc[i][1]\n",
    "                i=i+1\n",
    "                k=k+1\n",
    "            \n",
    "            while j < (right_half.size//2): \n",
    "                coords[k][0] = rc[j][0]\n",
    "                coords[k][1] = rc[j][1]\n",
    "                j=j+1\n",
    "                k=k+1\n",
    "            \n",
    "        return coords"
   ]
  },
  {
   "cell_type": "code",
   "execution_count": 4,
   "metadata": {},
   "outputs": [
    {
     "name": "stdout",
     "output_type": "stream",
     "text": [
      "--- Coordinates ---\n",
      "[[ 4 -1]\n",
      " [ 4  3]\n",
      " [-2 -2]\n",
      " [ 4 -2]\n",
      " [ 2 -3]]\n",
      "\n",
      "\n",
      "---Bubble Sorted---\n",
      "[[-2 -2]\n",
      " [ 2 -3]\n",
      " [ 4  3]\n",
      " [ 4 -1]\n",
      " [ 4 -2]]\n",
      "-------------------\n",
      "\n",
      "---Insert Sorted---\n",
      "[[-2 -2]\n",
      " [ 2 -3]\n",
      " [ 4  3]\n",
      " [ 4 -1]\n",
      " [ 4 -2]]\n",
      "-------------------\n",
      "\n",
      "---Merge  Sorted---\n",
      "[[-2 -2]\n",
      " [ 2 -3]\n",
      " [ 4  3]\n",
      " [ 4 -1]\n",
      " [ 4 -2]]\n",
      "-------------------\n",
      "\n",
      "\n",
      "Correct !!!\n"
     ]
    }
   ],
   "source": [
    "# Sanity Check\n",
    "mySort = Sorting()\n",
    "coords = np.array([[ 4, -1], [ 4,  3], [-2, -2], [ 4, -2], [ 2, -3]])\n",
    "print('--- Coordinates ---')\n",
    "print(coords)\n",
    "print()\n",
    "print()\n",
    "print('---Bubble Sorted---')\n",
    "o1=mySort.bubble_sort(coords.copy())\n",
    "print(o1)\n",
    "print('-------------------')\n",
    "print()\n",
    "print('---Insert Sorted---')\n",
    "o2=mySort.insert_sort(coords.copy())\n",
    "print(o2)\n",
    "print('-------------------')\n",
    "print()\n",
    "print('---Merge  Sorted---')\n",
    "o3=mySort.merge_sort(coords.copy())\n",
    "print(o3)\n",
    "print('-------------------')\n",
    "print()\n",
    "print()\n",
    "\n",
    "if (o1==o2).sum() == (o2==o3).sum() == (o1==o3).sum():\n",
    "    print('Correct !!!')\n",
    "else:\n",
    "    print('Wrong !!!')"
   ]
  },
  {
   "cell_type": "code",
   "execution_count": 6,
   "metadata": {},
   "outputs": [
    {
     "data": {
      "text/plain": [
       "<matplotlib.legend.Legend at 0x1e9a7409588>"
      ]
     },
     "execution_count": 6,
     "metadata": {},
     "output_type": "execute_result"
    },
    {
     "data": {
      "image/png": "[encoded data removed]",
      "text/plain": [
       "<Figure size 504x504 with 1 Axes>"
      ]
     },
     "metadata": {
      "needs_background": "light"
     },
     "output_type": "display_data"
    }
   ],
   "source": [
    "def compute_elapsed_time(func):\n",
    "    time_hist=[]\n",
    "    for N in range(10, 500):\n",
    "        a=0\n",
    "        c=mySort.__gen_coords__(N)\n",
    "        start = time()\n",
    "        func(c)\n",
    "        end = time()\n",
    "        a=(end-start)\n",
    "        time_hist.append(a)\n",
    "    return time_hist\n",
    "\n",
    "plt.figure(figsize=(7,7))\n",
    "plt.xlabel('N', fontsize=23)\n",
    "plt.ylabel('Elapsed Time', fontsize=23)\n",
    "\n",
    "# It will take at most 3 minutes\n",
    "plt.plot(compute_elapsed_time(mySort.bubble_sort), c='r',label='Bubble')\n",
    "plt.plot(compute_elapsed_time(mySort.insert_sort), c='g',label='Insertion')\n",
    "plt.plot(compute_elapsed_time(mySort.merge_sort), c='b',label='Merge')\n",
    "plt.legend(fontsize=23)"
   ]
  },
  {
   "cell_type": "markdown",
   "metadata": {},
   "source": [
    "### Description:"
   ]
  },
  {
   "cell_type": "markdown",
   "metadata": {},
   "source": [
    "* numpy 하의 요소들을 정렬한다.\n",
    "    * 요소를 통으로 순서를 바뀌는 것이 불가능하므로 요소의 x좌표와 y좌표를 각각 바꾸어야 한다.\n",
    "    \n",
    "    \n",
    "* bubble sort\n",
    "    * current의 값과 current 다음에 오는 값을 비교하여 정렬하는 것을 n번 반복한다.\n",
    "    * coordinate의 x좌표를 먼저 비교하고 y좌표를 비교한다.\n",
    "        * x좌표가 같을 때에만 y좌표의 비교를 시행한다.\n",
    "* insertion sort\n",
    "    * 정렬된 부분과 안된 부분으로 나누어 정렬되지 않은 부분의 첫 번째 요소를 정렬된 부분의 순서에 맞추어 insert 한다.\n",
    "    * 역시 x좌표를 먼저 비교하고 그 둘이 같을 때에만 y좌표를 비교한다.\n",
    "* merge sort\n",
    "    * 주어진 요소를 절반씩으로 계속 분할하여 가장 작은 단위부터 다시 정렬한다.\n",
    "    * recursion을 이용하여 가장 작은 단위가 될때까지 분할한다.\n",
    "    * 요소 별 비교 및 정렬은 지금까지와 같이  x좌표를 먼저 비교하고 그 둘이 같을 때에만 y좌표를 비교한다.\n",
    "    \n",
    "    \n",
    "* compute_elapsed_time\n",
    "    * 함수를 입력받아 numpy의 값이 random으로 주어질 때 이를 입력받은 함수로 sorting하는데 걸리는 시간을 list로 return한다.\n",
    "    * gen_coords를 이용하여 길이 N의 정렬할 numpy를 random하게 생성한다.\n",
    "    * 함수 시작하기 전 시간을 start에, 끝나고의 시간을 end에 저장하고 둘의 차를 구해 list time_hist에 append한다."
   ]
  },
  {
   "cell_type": "markdown",
   "metadata": {},
   "source": [
    "---------------"
   ]
  },
  {
   "cell_type": "markdown",
   "metadata": {},
   "source": [
    "### PROBLEM III: Sorting II (40 Points)"
   ]
  },
  {
   "cell_type": "markdown",
   "metadata": {},
   "source": [
    "Given $\\texttt{Doubly Linked List(DLL)}$ (you already implemented in HW3) containing $\\underline{N}$ Nodes, \n",
    "<br> You want to SORT Nodes which contain strings in $\\texttt{dictionary}$ order. \n",
    "<br> Moreover, Uppercase letters always precede Lowercase letters. \n",
    "<br>\n",
    "<br>\n",
    "> For example, given $\\texttt{DLL}$ containing ['ahi'] - ['A'] - ['bc'] - ['BD']\n",
    "<br> $\\rightarrow$ ['A'] - ['BD'] - ['ahi'] - ['bc']\n",
    "\n",
    "\n",
    "<br>\n",
    "<br>\n",
    "\n",
    "To this end, \n",
    "- Implement $\\texttt{(1) Selection Sort}$ , $\\texttt{(2) Shell Sort}$ and $\\texttt{(3) Quick Sort}$\n",
    "- Compare their $\\texttt{Complexity}$ by plotting the graphs $\\underline{Elapsed\\;time}$ versus $\\underline{N}$ \n",
    "- Discuss your results\n",
    "\n",
    "<br>\n",
    "$\\mathbf{NOTICE}$ : Do Not Use any pre-built Sorting Library. ( e.g. sorted() or numpy.sort() ) "
   ]
  },
  {
   "cell_type": "markdown",
   "metadata": {},
   "source": [
    "**Additional Instructions and Tips**\n",
    "- Use the given $\\texttt{dNode}$ class\n",
    "- Use the built-in functions of the given $\\texttt{DLL}$ class <br> ( e.g. is_empty, size, push_back and print_from_front )\n",
    "- To begin with, You Should implement $\\texttt{search_from_front}$ and $\\texttt{compare_string}$\n",
    "\n",
    "> $\\texttt{search_from_front}$ takes 'loc' a certain location $\\subset$ [1, self.size()] <br> and outputs dNode at 'loc' and the corresponding data\n",
    "\n",
    "> $\\texttt{compare_string}$ takes two strings and compare them.\n",
    "<br> It outputs **True** if str2 precedes str1 or str1 is equal to str2, **False** if st1 precedes str2.\n",
    "\n",
    "- Implement $\\texttt{compute_elapsed_time}$ by using $\\texttt{reset}$ and $\\texttt{gen_str}$\n",
    "\n",
    "<br>\n",
    "By using $\\texttt{search_from_front}$ and $\\texttt{compare_string}$,\n",
    "\n",
    "- Implement $\\texttt{select_sort}$\n",
    "- Implement $\\texttt{shell_sort}$ with $\\texttt{gap_insertion_sort}$\n",
    "- Implement $\\texttt{_quick_sort_helper}$ with $\\texttt{_partition}$"
   ]
  },
  {
   "cell_type": "markdown",
   "metadata": {},
   "source": [
    "### Answer:"
   ]
  },
  {
   "cell_type": "code",
   "execution_count": 7,
   "metadata": {},
   "outputs": [],
   "source": [
    "import numpy as np\n",
    "import string, random\n",
    "import matplotlib.pyplot as plt\n",
    "from time import time\n",
    "\n",
    "class dNode:\n",
    "    def __init__(self, init_data):\n",
    "        self.data = init_data\n",
    "        self.prev = None\n",
    "        self.next = None\n",
    "        \n",
    "class DLL():\n",
    "    def __init__(self):\n",
    "        self.head = dNode(None)\n",
    "        self.tail = dNode(None)\n",
    "    def is_empty(self):\n",
    "        return self.head.next == None\n",
    "    def size(self):\n",
    "        if self.is_empty(): return 0\n",
    "        else:\n",
    "            current = self.head\n",
    "            cnt = 0\n",
    "            while current.next != self.tail:\n",
    "                cnt += 1\n",
    "                current = current.next\n",
    "            return cnt\n",
    "    def push_back(self, item):\n",
    "        tmp=dNode(item)\n",
    "        if self.is_empty():\n",
    "            self.head.next = tmp\n",
    "            self.tail.prev = tmp\n",
    "            tmp.next = self.tail\n",
    "            tmp.prev = self.head\n",
    "        else:\n",
    "            current=self.tail.prev\n",
    "            self.tail.prev = tmp\n",
    "            tmp.next = self.tail\n",
    "            tmp.prev = current\n",
    "            current.next = tmp\n",
    "    def print_from_front(self):\n",
    "        if self.is_empty():\n",
    "            print('Print Error : The List is empty')\n",
    "        else:\n",
    "            current = self.head\n",
    "            print('Stored data(Foward) : ',end = '')\n",
    "            while True:\n",
    "                current = current.next\n",
    "                if current == self.tail: break\n",
    "                print(current.data, end=' ')\n",
    "            print('')\n",
    "    def search_from_front(self,loc):\n",
    "        if self.is_empty() or loc > self.size() or loc<=0:\n",
    "            print('Search Error')\n",
    "            return None\n",
    "        else:\n",
    "            current=self.head\n",
    "            for i in range(loc):\n",
    "                current=current.next\n",
    "            return current\n",
    "    def compare_string(self, str1, str2):\n",
    "        a=[i for i in str1]\n",
    "        b=[j for j in str2]\n",
    "        fin=False\n",
    "        k=0\n",
    "        while k in range(min(len(str1),len(str2))) and fin==False:\n",
    "            if str1[k]<str2[k]:\n",
    "                return False\n",
    "                fin=True\n",
    "            elif str2[k]<str1[k]:\n",
    "                return True\n",
    "                fin=True\n",
    "            else:\n",
    "                k+=1\n",
    "        if fin==False:\n",
    "            if len(str1)>len(str2):\n",
    "                return True\n",
    "            else:\n",
    "                return False\n",
    "    def select_sort(self):\n",
    "        for fill_slot in range(self.size(), 1, -1):\n",
    "            pos_of_max = 1\n",
    "            \n",
    "            for location in range(1, fill_slot + 1):\n",
    "                if self.search_from_front(location).data > self.search_from_front(pos_of_max).data:\n",
    "                    pos_of_max = location\n",
    "                \n",
    "            last=self.search_from_front(fill_slot)\n",
    "            pom=self.search_from_front(pos_of_max)\n",
    "            pom.prev.next=last\n",
    "            last.next.prev=pom\n",
    "            if pom.next==last:\n",
    "                last.prev=pom.prev\n",
    "                pom.next=last.next\n",
    "                last.next=pom\n",
    "                pom.prev=last\n",
    "            else:\n",
    "                temp=last.prev\n",
    "                temp2=pom.next\n",
    "                pom.next=last.next\n",
    "                last.next=temp2\n",
    "                last.prev=pom.prev\n",
    "                pom.next.prev=pom\n",
    "                last.next.prev=last\n",
    "                temp.next=pom\n",
    "                pom.prev=temp\n",
    "            \n",
    "    def shell_sort(self): \n",
    "        sublist_count = self.size()//2\n",
    "        while sublist_count > 0:\n",
    "            for start_position in range(sublist_count): \n",
    "                self.gap_insertion_sort(start_position, sublist_count)\n",
    "            sublist_count = sublist_count // 2\n",
    "\n",
    "    def gap_insertion_sort(self, start, gap):\n",
    "        for i in range(start + gap, self.size(), gap):\n",
    "            current=self.search_from_front(i+1)\n",
    "            position = i\n",
    "        \n",
    "            while position >= gap and self.search_from_front(position-gap+1).data > current.data:\n",
    "                compare=self.search_from_front(position-gap+1)\n",
    "                compare.prev.next=current\n",
    "                current.next.prev=compare\n",
    "                if gap!=1:\n",
    "                    temp=current.prev\n",
    "                    temp2=compare.next\n",
    "                    compare.next=current.next\n",
    "                    current.next=temp2\n",
    "                    current.prev=compare.prev\n",
    "                    compare.next.prev=compare\n",
    "                    current.next.prev=current\n",
    "                    temp.next=compare\n",
    "                    compare.prev=temp\n",
    "                else:\n",
    "                    current.prev=compare.prev\n",
    "                    compare.next=current.next\n",
    "                    current.next=compare\n",
    "                    compare.prev=current\n",
    "                position=position-gap \n",
    "            \n",
    "    def quick_sort(self):\n",
    "        self._quick_sort_helper(1, self.size())\n",
    "    def _quick_sort_helper(self, first, last):\n",
    "        if first < last:\n",
    "            split_point = self._partition(first, last)\n",
    "            self._quick_sort_helper(first, split_point)\n",
    "            self._quick_sort_helper(split_point + 1, last)\n",
    "    def _partition(self, first, last):\n",
    "        pivot=self.search_from_front(first)\n",
    "        left_mark = first+1\n",
    "        right_mark = last\n",
    "        done = False\n",
    "        while not done:\n",
    "            while left_mark <= right_mark and self.compare_string(pivot.data,self.search_from_front(left_mark).data):\n",
    "                left_mark = left_mark + 1\n",
    "            while self.compare_string(self.search_from_front(right_mark).data,pivot.data) and right_mark >= left_mark:\n",
    "                right_mark = right_mark - 1\n",
    "            if right_mark < left_mark: \n",
    "                done = True\n",
    "            else:\n",
    "                rm=self.search_from_front(right_mark)\n",
    "                lm=self.search_from_front(left_mark)\n",
    "                lm.prev.next=rm\n",
    "                rm.next.prev=lm\n",
    "                if lm.next!=rm:\n",
    "                    temp=rm.prev\n",
    "                    temp2=lm.next\n",
    "                    lm.next=rm.next\n",
    "                    rm.next=temp2\n",
    "                    rm.prev=lm.prev\n",
    "                    lm.next.prev=lm\n",
    "                    rm.next.prev=rm\n",
    "                    temp.next=lm\n",
    "                    lm.prev=temp\n",
    "                else:\n",
    "                    rm.prev=lm.prev\n",
    "                    lm.next=rm.next\n",
    "                    rm.next=lm\n",
    "                    lm.prev=rm\n",
    "                temp=left_mark\n",
    "                left_mark=right_mark\n",
    "                right_mark=temp\n",
    "        \n",
    "        rm=self.search_from_front(right_mark)\n",
    "        if rm.data==None:\n",
    "            return right_mark\n",
    "        else:\n",
    "            pivot.prev.next=rm\n",
    "            rm.next.prev=pivot\n",
    "            if pivot.next!=rm:\n",
    "                temp=rm.prev\n",
    "                temp2=pivot.next\n",
    "                pivot.next=rm.next\n",
    "                rm.next=temp2\n",
    "                rm.prev=pivot.prev\n",
    "                pivot.prev=temp\n",
    "                pivot.prev.next=pivot\n",
    "                pivot.next.prev=pivot\n",
    "                rm.next.prev=rm\n",
    "            else:\n",
    "                rm.prev=pivot.prev\n",
    "                pivot.next=rm.next\n",
    "                rm.next=pivot\n",
    "                pivot.prev=rm\n",
    "            return right_mark\n",
    "    \n",
    "    def __reset__(self):\n",
    "        self.head=dNode(None)\n",
    "        self.tail=dNode(None)\n",
    "    def __gen_str__(self, N):\n",
    "        self.__reset__()\n",
    "        letters = string.ascii_letters\n",
    "        for i in range(N):\n",
    "            self.push_back(''.join(random.choice(letters) for i in range(5)))\n",
    "    def compute_elapsed_time(self, sort_name):\n",
    "        time_hist=[]\n",
    "        for N in range(10, 150):\n",
    "            a=0\n",
    "            self.__gen_str__(N)\n",
    "            start = time()\n",
    "            if sort_name=='select':\n",
    "                self.select_sort()\n",
    "            elif sort_name=='shell':\n",
    "                self.shell_sort()\n",
    "            elif sort_name=='quick':\n",
    "                self.quick_sort()\n",
    "            end = time()\n",
    "            a=(end-start)\n",
    "            time_hist.append(a)\n",
    "        return time_hist"
   ]
  },
  {
   "cell_type": "code",
   "execution_count": 12,
   "metadata": {
    "scrolled": true
   },
   "outputs": [
    {
     "name": "stdout",
     "output_type": "stream",
     "text": [
      "Stored data(Foward) : redvelvet TWICE twice iu \n",
      "Stored data(Foward) : TWICE iu redvelvet twice \n",
      "\n",
      "Stored data(Foward) : redvelvet TWICE twice iu \n",
      "Stored data(Foward) : TWICE iu redvelvet twice \n",
      "\n",
      "Stored data(Foward) : redvelvet TWICE twice iu \n",
      "Stored data(Foward) : TWICE iu redvelvet twice \n",
      "\n"
     ]
    },
    {
     "data": {
      "text/plain": [
       "<matplotlib.legend.Legend at 0x1e9a8165518>"
      ]
     },
     "execution_count": 12,
     "metadata": {},
     "output_type": "execute_result"
    },
    {
     "data": {
      "image/png": "[encoded data removed]",
      "text/plain": [
       "<Figure size 504x504 with 1 Axes>"
      ]
     },
     "metadata": {
      "needs_background": "light"
     },
     "output_type": "display_data"
    }
   ],
   "source": [
    "# Sanity Check\n",
    "myDLL = DLL()\n",
    "myDLL.push_back('redvelvet')\n",
    "myDLL.push_back('TWICE')\n",
    "myDLL.push_back('twice')\n",
    "myDLL.push_back('iu')\n",
    "myDLL.print_from_front()\n",
    "myDLL.select_sort()\n",
    "myDLL.print_from_front()\n",
    "print()\n",
    "myDLL = DLL()\n",
    "myDLL.push_back('redvelvet')\n",
    "myDLL.push_back('TWICE')\n",
    "myDLL.push_back('twice')\n",
    "myDLL.push_back('iu')\n",
    "myDLL.print_from_front()\n",
    "myDLL.shell_sort()\n",
    "myDLL.print_from_front()\n",
    "print()\n",
    "myDLL = DLL()\n",
    "myDLL.push_back('redvelvet')\n",
    "myDLL.push_back('TWICE')\n",
    "myDLL.push_back('twice')\n",
    "myDLL.push_back('iu')\n",
    "myDLL.print_from_front()\n",
    "myDLL.quick_sort()\n",
    "myDLL.print_from_front()\n",
    "print()\n",
    "\n",
    "\n",
    "plt.figure(figsize=(7,7))\n",
    "plt.xlabel('N', fontsize=23)\n",
    "plt.ylabel('Elapsed Time', fontsize=23)\n",
    "\n",
    "# It will take at most 3 minutes \n",
    "plt.plot(myDLL.compute_elapsed_time('select'), c='r',label='select')\n",
    "plt.plot(myDLL.compute_elapsed_time('shell'), c='g',label='shell')\n",
    "plt.plot(myDLL.compute_elapsed_time('quick'), c='b',label='quick')\n",
    "plt.legend(fontsize=23)"
   ]
  },
  {
   "cell_type": "markdown",
   "metadata": {},
   "source": [
    "### Description:"
   ]
  },
  {
   "cell_type": "markdown",
   "metadata": {},
   "source": [
    "* Double Linked List로 주어진 자료의 정렬\n",
    "    * Node의 data만 바꾸는 것이 아닌 Node의 prev, next를 바꾸어 정렬한다.\n",
    "    * 순서를 바꿀 두 Node가 바로 앞뒤로 정렬되어 있을 때 순서를 바꾸는 중 오류가 나는 것을 확인하여 이 경우를 if문으로 분리하여 처리하였다.\n",
    "\n",
    "\n",
    "\n",
    "\n",
    "* search_from_front\n",
    "    * 입력받은 loc의 node를 return한다.\n",
    "    * 반복문을 이용하여 current를 self.head에서 시작하여 next를 이용, 목표 node까지 이동한다.\n",
    "* compare_string\n",
    "    * str1, str2를 받아 각각의 n번째 문자를 비교한다.\n",
    "    * 문자를 부등호로 비교하면 아즈키 코드로 비교하므로 이를 이용한다.\n",
    "    * 사전식 정렬을 따르므로 짧은 문자열의 마지막 문자까지 비교하여 같으면 짧은 문자열이 긴 문자열보다 앞 순서이다.\n",
    "    * True/False를 return한다.\n",
    "\n",
    "\n",
    "\n",
    "\n",
    "* selection sort\n",
    "    * n번째 시행시, 첫번째 요소부터 뒤에서 n번째 요소까지 중 가장 큰 것을 뒤에서 n번째 요소와 순서를 바꾼다.\n",
    "    * search_from_front를 이용하므로 반복문에서 range를 이용하여 i의 값이 1씩 작아지도록 하고 이를 이용한다.\n",
    "* shell sort\n",
    "    * gap을 설정하고 gap_insertion_sort를 이용하여 gap씩 뛰어넘어 존재하는 요소들을 각각 정렬한 후 다시 정렬하면 gap 사이를 다시 정렬한다.\n",
    "    * 반복문과 gap_insertion_sort를 사용하여 gap을 절반으로 줄여 다시 gap_insertion_sort를 시행하여 정렬한다.\n",
    "* quick sort\n",
    "    * pivot, right mark, left mark를 이용하여 정렬한다.\n",
    "        * pivot과 right mark, pivot과 left mark를 각각 비교하여 data 전체에서 pivot의 최종 위치를 찾아 배열한다.\n",
    "        * 정렬된 pivot의 양쪽에서 각각 새로운 pivot을 잡아 이를 반복한다.\n",
    "    * 정렬할 전체 구간을 quick_sort_helper에 넣는다.\n",
    "    * quick_sort_helper: 정렬할 data의 구간을 받아 partition에 넣어 구간의 첫번째 요소인 pivot을 구간에서 알맞은 위치에 정렬하고, pivot 기준으로 양쪽을 각각 다른 구간으로 잡아 재귀함수로 시행한다.\n",
    "    * partition: 입력 받은 구간의 첫번째 요소인 pivot을 구간에서 알맞은 위치에 오게 하며, 그 위치를 return한다.\n",
    "        * left mark의 data 값이 pivot의 data 값보다 클 때까지 left mark를 오른쪽으로 이동한다.\n",
    "        * right mark의 data값이 pivot의 data 값보다 작을 때까지 right mark를 왼쪽으로 이동한다.\n",
    "        * left mark와 right mark의 순서를 바꾼다.\n",
    "        * left mark가 right mark보다 오른쪽에 있을 때, right mark가 구간에서의 pivot의 최종 위치가 된다.\n",
    "        * 따라서 right mark와 pivot의 순서를 바꾸고, 이 위치를 return한다.\n",
    "        \n",
    "        \n",
    "        \n",
    "* compute_elapsed_time\n",
    "    * 시행할 함수의 이름을 받아 if문으로 그에 맞는 함수를 시행한다.\n",
    "    * gen_str을 이용해 random한 5자짜리 string을 data로 갖는 Node를 10개부터 150개까지 갖는 DLL을 생성한다.\n",
    "    * 함수 시작하기 전 시간을 start에, 끝나고의 시간을 end에 저장하고 둘의 차를 구해 list time_hist에 append한다."
   ]
  },
  {
   "cell_type": "markdown",
   "metadata": {},
   "source": [
    "---------------"
   ]
  }
 ],
 "metadata": {
  "kernelspec": {
   "display_name": "Python 3",
   "language": "python",
   "name": "python3"
  },
  "language_info": {
   "codemirror_mode": {
    "name": "ipython",
    "version": 3
   },
   "file_extension": ".py",
   "mimetype": "text/x-python",
   "name": "python",
   "nbconvert_exporter": "python",
   "pygments_lexer": "ipython3",
   "version": "3.7.1"
  }
 },
 "nbformat": 4,
 "nbformat_minor": 2
}
