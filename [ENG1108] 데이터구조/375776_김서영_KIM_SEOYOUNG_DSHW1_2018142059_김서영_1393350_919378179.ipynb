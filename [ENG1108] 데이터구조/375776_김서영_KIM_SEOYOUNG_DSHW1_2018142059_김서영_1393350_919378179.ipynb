{
 "cells": [
  {
   "cell_type": "markdown",
   "metadata": {},
   "source": [
    "> ### EEE2020-04: Data Structures & Algorithms\n",
    "\n",
    "# Assignment \\# I: Python & OOP"
   ]
  },
  {
   "cell_type": "markdown",
   "metadata": {},
   "source": [
    "<div style=\"text-align: right\"> **Due date: April 6, 2019.** </div> \n",
    "<div style=\"text-align: right\"> **Please upload your file @ yscec by 9 PM.** </div> \n",
    "\n",
    "<div style=\"text-align: right\"> Youngmin Oh(오영민): <a href=\"mailto:youngmin.oh@yonsei.ac.kr\">youngmin.oh@yonsei.ac.kr</a> </div>\n",
    "<div style=\"text-align: right\"> Sanghoon Lee(이상훈): <a href=\"mailto:sanghslee@yonsei.ac.kr\">sanghslee@yonsei.ac.kr</a> </div>"
   ]
  },
  {
   "cell_type": "markdown",
   "metadata": {},
   "source": [
    "-------------------------------"
   ]
  },
  {
   "cell_type": "markdown",
   "metadata": {},
   "source": [
    "\n",
    "### *Assignment Instructions:*\n",
    "1. Write a program implementing a particular algorithm to solve a given problem.\n",
    "2. You can use both Korean and English for your report.\n",
    "3. Since this is your first assignment of the course, comprehensive instructions are given for particular problems.  \n",
    " However, note that this might not be the case for further assignments over the course.\n",
    "4. **Analyze the algorithm, theoretically and empirically.** \n",
    "5. **Report your results.**  \n",
    "    - You must do assignments and labs yourself. \n",
    "    - <span style=\"color:red\">**Do not copy any part of your friends’ code.**</span>\n",
    "    - Otherwise, you will get a F grade."
   ]
  },
  {
   "cell_type": "markdown",
   "metadata": {},
   "source": [
    "-----------------"
   ]
  },
  {
   "cell_type": "markdown",
   "metadata": {},
   "source": [
    "<h2><span style=\"color:blue\">[2018142059] [김서영]</span> </h2>"
   ]
  },
  {
   "cell_type": "code",
   "execution_count": 3,
   "metadata": {},
   "outputs": [
    {
     "name": "stdout",
     "output_type": "stream",
     "text": [
      "This code is written at 2019-04-01 15:24:31.640615\n"
     ]
    }
   ],
   "source": [
    "import datetime\n",
    "print(\"This code is written at \" + str(datetime.datetime.now()))"
   ]
  },
  {
   "cell_type": "markdown",
   "metadata": {},
   "source": [
    "-------------------------------"
   ]
  },
  {
   "cell_type": "markdown",
   "metadata": {},
   "source": [
    "### \\# PROBLEM I (15 POINTS)\n",
    "\n",
    "> Write a python script to replace each integer in the list below with its square values. \n",
    ">\n",
    " > list: [4, 7, 9, 12, 18]  \n",
    ">\n",
    ">>**Note that below comprehensive instructions are just for reference, and thereby these steps are <U>not</U> mandatory.**  \n",
    ">> **You may solve this problem in other ways, as long as you are using $\\texttt{while}$/$\\texttt{for}$ loop (and $\\texttt{while}$/$\\texttt{for}$ loop only).**  \n",
    "> - assign your list to a variable ($\\texttt{numbers}$).\n",
    "> - append the results to the new list  ($\\texttt{square_numbers}$)."
   ]
  },
  {
   "cell_type": "markdown",
   "metadata": {},
   "source": [
    "#### ANSWER 1: Use $\\texttt{while}$ loop."
   ]
  },
  {
   "cell_type": "code",
   "execution_count": 83,
   "metadata": {},
   "outputs": [],
   "source": [
    "numbers = [4, 7, 9, 12, 18]\n",
    "square_numbers = []"
   ]
  },
  {
   "cell_type": "code",
   "execution_count": 84,
   "metadata": {},
   "outputs": [],
   "source": [
    "i=0\n",
    "while i<5:\n",
    "    square_numbers.append(numbers[i]**2)\n",
    "    i+=1"
   ]
  },
  {
   "cell_type": "code",
   "execution_count": 85,
   "metadata": {
    "scrolled": true
   },
   "outputs": [
    {
     "name": "stdout",
     "output_type": "stream",
     "text": [
      "square numbers list: [16, 49, 81, 144, 324]\n"
     ]
    }
   ],
   "source": [
    "print('square numbers list:', square_numbers)"
   ]
  },
  {
   "cell_type": "markdown",
   "metadata": {},
   "source": [
    "### Describe your answer: "
   ]
  },
  {
   "cell_type": "markdown",
   "metadata": {},
   "source": [
    "square_numbers라는 이름을 가진 list에 numbers의 요소의 제곱의 값을 가진 요소를 추가해야 한다.\n",
    "\n",
    "* 따라서 list에 요소를 추가하는 a_list.append 명령을 사용한다.\n",
    "* while문은 while 다음의 조건이 true일 때 그 아래의 명령을 반복한다.\n",
    "    * i를 numbers의 요소들의 index로 설정한다.\n",
    "    * numbers 내에 요소는 5개로 0부터 4까지의 인덱스를 가지므로 이를 이용하여 i=0부터 i<5를 만족할 때까지 반복하도록 한다\n",
    "    * 반복문의 마지막에 i+=1을 하면 numbers의 요소들의 수 만큼 반복하게 할 수 있다.\n",
    "* 인덱스가 i인 numbers의 요소를 \" ** \"을 사용하여 제곱한다.\n",
    "* 이를 a_list.append을 사용하여 square_numbers에 추가한다."
   ]
  },
  {
   "cell_type": "markdown",
   "metadata": {},
   "source": [
    "#### ANSWER 2: Use $\\texttt{for}$ loop."
   ]
  },
  {
   "cell_type": "code",
   "execution_count": 86,
   "metadata": {},
   "outputs": [],
   "source": [
    "numbers = [4, 7, 9, 12, 18]\n",
    "square_numbers = []"
   ]
  },
  {
   "cell_type": "code",
   "execution_count": 87,
   "metadata": {},
   "outputs": [],
   "source": [
    "for i in range(5):\n",
    "    square_numbers.append(numbers[i]**2)"
   ]
  },
  {
   "cell_type": "code",
   "execution_count": 88,
   "metadata": {},
   "outputs": [
    {
     "name": "stdout",
     "output_type": "stream",
     "text": [
      "square numbers list: [16, 49, 81, 144, 324]\n"
     ]
    }
   ],
   "source": [
    "print('square numbers list:', square_numbers)"
   ]
  },
  {
   "cell_type": "markdown",
   "metadata": {},
   "source": [
    "### Describe your answer: "
   ]
  },
  {
   "cell_type": "markdown",
   "metadata": {},
   "source": [
    "* for문을 사용하여 numbers 내 요소의 인덱스가 0~4까지 있으므로 그 range를 5로 설정한다.\n",
    "* 반복할 명령들은 1번과 같은 방법으로 지정한다\n",
    "    * square_numbers.append를 사용하여 index가 i인 numbers의 요소를 \" ** \"을 이용하여 제곱한 것을 square_numbers에 추가한다."
   ]
  },
  {
   "cell_type": "markdown",
   "metadata": {},
   "source": [
    "#### ANSWER 3: Use list comprehension.  "
   ]
  },
  {
   "cell_type": "code",
   "execution_count": 89,
   "metadata": {},
   "outputs": [],
   "source": [
    "square_numbers=[i**2 for i in numbers]"
   ]
  },
  {
   "cell_type": "code",
   "execution_count": 90,
   "metadata": {},
   "outputs": [
    {
     "name": "stdout",
     "output_type": "stream",
     "text": [
      "square numbers list: [16, 49, 81, 144, 324]\n"
     ]
    }
   ],
   "source": [
    "print('square numbers list:', square_numbers)"
   ]
  },
  {
   "cell_type": "markdown",
   "metadata": {},
   "source": [
    "### Describe your answer: "
   ]
  },
  {
   "cell_type": "markdown",
   "metadata": {},
   "source": [
    "List Comprehension을 사용하여 list를 쉽게 구성할 수 있다.\n",
    "\n",
    "* (list명)=[(리스트에 들어갈 요소)] 의 형태로 List Comprehension을 진행할 수 있다.\n",
    "* square_numbers라는 이름의 list에 numbers의 요소들을 i로 지정하고 이를 \" ** \"을 이용하여 제곱하여 넣었다."
   ]
  },
  {
   "cell_type": "markdown",
   "metadata": {},
   "source": [
    "-------------------------------"
   ]
  },
  {
   "cell_type": "markdown",
   "metadata": {},
   "source": [
    "### \\# PROBLEM II (10 POINTS)\n",
    "\n",
    "> Write a python script to sort a list in an <U>ascending</U> order. If the list has a $\\texttt{string}$ element, ignore the element.  \n",
    "> **Do not** use $\\texttt{sort}$().\n",
    "> * use $\\texttt{min}$() function.  \n",
    "> * use $\\texttt{append}$ method in list.  \n",
    "> * use $\\texttt{remove}$ method in list.\n",
    "> * use $\\texttt{type}$(data) function to check type of a data.  \n",
    ">\n",
    ">\n",
    ">Your output should be as follows.  \n",
    ">sort_list: [1, 6, 8, 10, 79, 81, 100, 109]  \n",
    "> * For full credit, use **$\\texttt{while}$ or $\\texttt{for}$ statements**."
   ]
  },
  {
   "cell_type": "markdown",
   "metadata": {},
   "source": [
    "#### ANSWER"
   ]
  },
  {
   "cell_type": "code",
   "execution_count": 91,
   "metadata": {},
   "outputs": [],
   "source": [
    "unsort_list = [1, 109, 'a', 100, 'm', 79, 10, 'p', 6, 8, 81]\n",
    "sorted_list = []"
   ]
  },
  {
   "cell_type": "code",
   "execution_count": 92,
   "metadata": {},
   "outputs": [],
   "source": [
    "x=len(unsort_list)\n",
    "i=0\n",
    "while i<x:\n",
    "    if type(unsort_list[i])==type('string'):\n",
    "        unsort_list.remove(unsort_list[i])\n",
    "    x=len(unsort_list)\n",
    "    i+=1\n",
    "k=0\n",
    "while k<x:\n",
    "    sorted_list.append(min(unsort_list))\n",
    "    unsort_list.remove(min(unsort_list))\n",
    "    x=len(unsort_list)"
   ]
  },
  {
   "cell_type": "code",
   "execution_count": 93,
   "metadata": {},
   "outputs": [
    {
     "name": "stdout",
     "output_type": "stream",
     "text": [
      "sorted_list: [1, 6, 8, 10, 79, 81, 100, 109]\n"
     ]
    }
   ],
   "source": [
    "print('sorted_list:', sorted_list)"
   ]
  },
  {
   "cell_type": "markdown",
   "metadata": {},
   "source": [
    "### Describe your answer: "
   ]
  },
  {
   "cell_type": "markdown",
   "metadata": {},
   "source": [
    "* unsort_list의 요소 수를 len()함수를 이용하여 변수 x에 넣는다.\n",
    "* i=0으로 지정하고 while 함수를 i<x의 조건을 만족하는 동안 반복하도록 지정한다.\n",
    "    * i를 list의 unsort_list의 요소의 index로 지정한다.\n",
    "    * if 함수를 이용하여 unsort_list의 i번째 요소가 string type의 data일 때 이를 unsort_list에서 제거한다.\n",
    "    * unsort_list의 요소 수가 변경되었을 수도 있으므로 len()함수를 이용하여 x를 수정한다.\n",
    "    * i+=1을 하여 모든 요소를 확인하면 while문이 종료되도록 한다.\n",
    "* k=0으로 지정하고 while 함수를 k<x의 조건을 만족하는 동안 반복하도록 지정한다.\n",
    "    * unsort_list에서 가장 작은 요소를 sorted_list.append를 사용하여 sorted_list에 추가한다.\n",
    "    * sorted_list에 추가한 unsort_list의 요소를 unsort_list에서 삭제한다.\n",
    "    * unsort_list의 요소 수가 변경되었으므로 x를 len() 함수를 이용하여 수정하면 unsort_list의 요소가 하나도 남지 않을 때까지 while 함수가 반복된다.\n",
    "    \n"
   ]
  },
  {
   "cell_type": "markdown",
   "metadata": {},
   "source": [
    "-------------------------------"
   ]
  },
  {
   "cell_type": "markdown",
   "metadata": {},
   "source": [
    "### \\# PROBLEM III (25 POINTS)"
   ]
  },
  {
   "cell_type": "markdown",
   "metadata": {},
   "source": [
    "#### \\# PROBLEM III-1 (10 POINTS)"
   ]
  },
  {
   "cell_type": "markdown",
   "metadata": {},
   "source": [
    "> Write a python script to capitalize specified letter for each item within a dictionary and return the capitalized letter.    \n",
    "> For key 'i' in a dictionary, capitalize 'i' th letter of the item and return only the capitalized letter.  \n",
    ">     \n",
    "> For example, your output should be as follows.    \n",
    "> {1: 'D', 2: 'T', 3: 'D', 4: 'O', 5: 'E'},  \n",
    "> given the input  \n",
    "> words = {1: 'data', 2:'structure', 3:'and', 4:'algorithms', 5: 'pieceofcake'}\n",
    "> * For full credit, **use $\\texttt{while}$ or $\\texttt{for}$ statements**."
   ]
  },
  {
   "cell_type": "markdown",
   "metadata": {},
   "source": [
    "#### ANSWER"
   ]
  },
  {
   "cell_type": "code",
   "execution_count": 94,
   "metadata": {},
   "outputs": [],
   "source": [
    "words = {1: 'data', 2:'structure', 3:'and', 4:'algorithms', 5: 'pieceofcake'}"
   ]
  },
  {
   "cell_type": "code",
   "execution_count": 95,
   "metadata": {},
   "outputs": [],
   "source": [
    "x=len(words)\n",
    "i=0\n",
    "while i<x:\n",
    "    words[i+1]=words.get(i+1)[i].upper()\n",
    "    i+=1"
   ]
  },
  {
   "cell_type": "code",
   "execution_count": 96,
   "metadata": {},
   "outputs": [
    {
     "name": "stdout",
     "output_type": "stream",
     "text": [
      "{1: 'D', 2: 'T', 3: 'D', 4: 'O', 5: 'E'}\n"
     ]
    }
   ],
   "source": [
    "print(words)"
   ]
  },
  {
   "cell_type": "markdown",
   "metadata": {},
   "source": [
    "### Describe your answer: "
   ]
  },
  {
   "cell_type": "markdown",
   "metadata": {},
   "source": [
    "* len()함수를 이용하여 words의 크기를 변수 x로 설정한다.\n",
    "* i를 words의 요소의 index로 설정한다\n",
    "* i=0으로 하고 while 함수가 i<x(words의 크기)를 만족하는 동안 반복하도록 한다.\n",
    "    * words의 key가 1부터 5까지이므로 (인덱스+1)임을 알 수 있다.\n",
    "    * .get을 이용하여 i+1의 key에 지정된 value를 불러내고 i번째 문자를 추출한다.\n",
    "    * .upper를 이용하여 불러낸 문자를 대문자로 변경한다.\n",
    "    * 이를 다시 words의 i+1의 key의 value로 수정한다.\n",
    "    * i+=1을 하여 while문이 words의 모든 value를 수정하고 종료되도록 한다."
   ]
  },
  {
   "cell_type": "markdown",
   "metadata": {},
   "source": [
    "#### \\# PROBLEM III-2 (15 POINTS)"
   ]
  },
  {
   "cell_type": "markdown",
   "metadata": {},
   "source": [
    " \n",
    " Write a python script to capitalize specified letter for each item within a dictionary.  \n",
    " Return the item with the specified letter capitalized.  \n",
    " In other words, for key 'i' in a dictionary, capitalize 'i' th letter of the item and return the original string with the specified letter capitalized.  \n",
    " >  \n",
    " >That is, your output should be as follows.  \n",
    " {1: 'Data', 2: 'sTructure', 3: 'anD', 4: 'algOrithms', 5: 'piecEofcake'}\n",
    ">\n",
    ">> **Note that below comprehensive instructions are just for reference, and thereby these steps are <U>not</U> mandatory.**  \n",
    ">> **You may solve this problem in other ways.**  \n",
    ">> * for each item in the dictionary, split the string by letters.  \n",
    ">> 'abcd' -> 'a', 'b', 'c', 'd'.  \n",
    ">>    \n",
    " >> * for the 'i'  key value, access to the 'i' th element, and capitalize accessed letter.  \n",
    ">> E.g., for the key of 2, access to 'b', and capitalize: 'b' -> 'B'.  \n",
    ">>  \n",
    ">> * merge the splitted letters.  \n",
    ">> [hint]: refer to p40 in lecture note 4.\n",
    ">> 'a', 'B', 'c', 'd' -> 'aBcd'.  \n",
    ">>  \n",
    ">> * replace original item with new item.  \n",
    ">> 'abcd' -> 'aBcd'  \n",
    ">\n",
    "> * For full credit, **use $\\texttt{while}$ or $\\texttt{for}$ statements**."
   ]
  },
  {
   "cell_type": "markdown",
   "metadata": {},
   "source": [
    "#### ANSWER"
   ]
  },
  {
   "cell_type": "code",
   "execution_count": 97,
   "metadata": {},
   "outputs": [],
   "source": [
    "words = {1: 'data', 2:'structure', 3:'and', 4:'algorithms', 5: 'pieceofcake'}"
   ]
  },
  {
   "cell_type": "code",
   "execution_count": 98,
   "metadata": {},
   "outputs": [],
   "source": [
    "i=0\n",
    "while i<5:\n",
    "    list=[k for k in words.get(i+1)]\n",
    "    list[i]=list[i].upper()\n",
    "    words[i+1]=''.join(list)\n",
    "    i+=1"
   ]
  },
  {
   "cell_type": "code",
   "execution_count": 99,
   "metadata": {},
   "outputs": [
    {
     "name": "stdout",
     "output_type": "stream",
     "text": [
      "{1: 'Data', 2: 'sTructure', 3: 'anD', 4: 'algOrithms', 5: 'piecEofcake'}\n"
     ]
    }
   ],
   "source": [
    "print(words)"
   ]
  },
  {
   "cell_type": "markdown",
   "metadata": {},
   "source": [
    "### Describe your answer: "
   ]
  },
  {
   "cell_type": "markdown",
   "metadata": {},
   "source": [
    "* words의 크기가 5임을 확인한다.\n",
    "* i를 words의 요소의 index로 설정한다.\n",
    "* i=0으로 설정하고 while문이 i<5(words의 크기)를 만족하는 동안 반복하도록 한다.\n",
    "    * while문 내에 list라는 이름의 list를 만들고, i+1의 key에 지정된 value를 문자별로 split하여 list에 저장한다.\n",
    "    * list의 i번째 문자를 .upper를 이용해 대문자로 수정하여 저장한다.\n",
    "    * 문자별로 split 되어있는 list를 .join을 이용해 다시 합쳐 words의 i+1의 key에 저장한다.\n",
    "    * i+=1하여 while문이 words의 모든 항목을 수정할 때까지 반복하도록 한다."
   ]
  },
  {
   "cell_type": "markdown",
   "metadata": {},
   "source": [
    "-------------------------------"
   ]
  },
  {
   "cell_type": "markdown",
   "metadata": {},
   "source": [
    "### \\# PROBLEM IV (50 POINTS)"
   ]
  },
  {
   "cell_type": "markdown",
   "metadata": {},
   "source": [
    "Complete $\\texttt{Complex}$ class below and run some test codes to check that your output is appropriate.   \n",
    "To this end, you should complete  $\\texttt{magnitude}$ and $\\texttt{phase}$ functions beforehand.    \n",
    "Inputs and outputs of these functions are specifed as follows:  \n",
    "> * Inputs are complex numbers, which can be represented as a list.  \n",
    ">  For example, $a+bj$, where $j$ is $\\sqrt{-1}$, are represented as [a,b].  \n",
    "> * The $\\texttt{magnitude}$ function returns <U>magnitude</U> of a complex number: i.e., $\\sqrt{a^2 + b^2}$\n",
    "> * The  $\\texttt{phase}$ function returns <U>phase</U> of a complex number in <U>degree</U>: i.e., $\\arctan({{b}\\over{a}})$  \n",
    ">     - To implement the $\\arctan$ function in python, import the $\\texttt{math}$ library.  \n",
    ">     - The statement $\\texttt{math.atan}(x)$ returns $\\arctan(x)$ value in radians.  \n",
    ">     - Use $\\pi$ = 3.141592  \n",
    "> * Output of each operation should be a $\\texttt{Complex}$ class.  \n",
    "\n",
    "Note that mathematical operations (for example, multiplication) of complex values differ from those of real values.  \n",
    "> *Also, mathematically, a comparison between two complex numbers using the operators $(<, <=, >, >=)$ is not defined.*  \n",
    "> *In this problem, we will compare two complex numbers by their magnitude.*  \n",
    "\n"
   ]
  },
  {
   "cell_type": "markdown",
   "metadata": {},
   "source": [
    "#### ANSWER"
   ]
  },
  {
   "cell_type": "code",
   "execution_count": 100,
   "metadata": {},
   "outputs": [],
   "source": [
    "import math"
   ]
  },
  {
   "cell_type": "code",
   "execution_count": 101,
   "metadata": {},
   "outputs": [],
   "source": [
    "def magnitude(complex_number):\n",
    "    return math.sqrt(complex_number[0]**2+complex_number[1]**2)\n",
    "\n",
    "def phase(complex_number):\n",
    "    return math.atan(complex_number[1]/complex_number[0])/(3.141592)*180"
   ]
  },
  {
   "cell_type": "code",
   "execution_count": 102,
   "metadata": {},
   "outputs": [],
   "source": [
    "class Complex:\n",
    "    def __init__(self, complex_number):\n",
    "        self.real = complex_number[0]\n",
    "        self.img = complex_number[1]\n",
    "\n",
    "    def __str__(self):\n",
    "        ch=''\n",
    "        if self.img==0:\n",
    "            return str(self.real)\n",
    "        else:\n",
    "            if self.img>0:\n",
    "                ch='+'\n",
    "            return str(self.real)+ ch + str(self.img)+\"j\"\n",
    "            \n",
    "    def __add__(self, other):\n",
    "        new_real = self.real+other.real\n",
    "        new_img = self.img+other.img\n",
    "        return Complex([new_real, new_img])\n",
    "        \n",
    "    def __sub__(self, other):\n",
    "        new_real = self.real-other.real\n",
    "        new_img =  self.img-other.img\n",
    "        return Complex([new_real, new_img])\n",
    "        \n",
    "    def __mul__(self, other):\n",
    "        new_real = self.real*other.real-self.img*other.img\n",
    "        new_img =  self.real*other.img+self.img*other.real\n",
    "        return Complex([new_real, new_img])\n",
    "    \n",
    "    def __eq__(self, other):\n",
    "        return (self.real==other.real) and (self.img==other.img)\n",
    "    \n",
    "    def __ne__(self, other):\n",
    "        return (self.real!=other.real) or (self.img!=other.img)\n",
    "    \n",
    "    def __lt__(self, other):\n",
    "        a=[self.real,self.img]\n",
    "        b=[other.real,other.img]\n",
    "        return magnitude(a) < magnitude(b)\n",
    "        \n",
    "    def __le__(self, other):\n",
    "        a=[self.real,self.img]\n",
    "        b=[other.real,other.img]\n",
    "        return magnitude(a) <= magnitude(b)\n",
    "        \n",
    "    def __gt__(self, other):\n",
    "        a=[self.real,self.img]\n",
    "        b=[other.real,other.img]\n",
    "        return magnitude(a) > magnitude(b)\n",
    "        \n",
    "    def __ge__(self, other):\n",
    "        a=[self.real,self.img]\n",
    "        b=[other.real,other.img]\n",
    "        return magnitude(a) >= magnitude(b)"
   ]
  },
  {
   "cell_type": "code",
   "execution_count": 103,
   "metadata": {
    "scrolled": true
   },
   "outputs": [
    {
     "name": "stdout",
     "output_type": "stream",
     "text": [
      "1.9999999999999998\n",
      "60.00001248264815\n",
      "add:  3+8j\n",
      "sub:  -1-2j\n",
      "mul:  -13+11j\n",
      "eq:  False\n",
      "ne:  True\n",
      "ge:  False\n",
      "gt:  False\n",
      "le:  True\n",
      "lt:  True\n"
     ]
    }
   ],
   "source": [
    "c1 = [1, 3**(0.5)]\n",
    "print(magnitude(c1)) #output = 2\n",
    "print(phase(c1)) #output = 60\n",
    "\n",
    "c2 = Complex([1, 3])\n",
    "c3 = Complex([2, 5])\n",
    "print('add: ', c2 + c3)\n",
    "print('sub: ', c2 - c3)\n",
    "print('mul: ', c2*c3)\n",
    "print('eq: ', c2 == c3)\n",
    "print('ne: ', c2 != c3)\n",
    "print('ge: ', c2 >= c3)\n",
    "print('gt: ', c2 > c3)\n",
    "print('le: ', c2 <= c3)\n",
    "print('lt: ', c2 < c3)"
   ]
  },
  {
   "cell_type": "markdown",
   "metadata": {},
   "source": [
    "### Describe your answer: "
   ]
  },
  {
   "cell_type": "markdown",
   "metadata": {},
   "source": [
    "* import math로 math library를 호출한다.\n",
    "* def를 이용하여 magnitude와 phase 함수를 구현한다.\n",
    "    * magnitude 함수\n",
    "        * magnitude 함수가 complex_number를 받는데 조건에 따라 이는 list로 구현됨을 확인한다.\n",
    "        * 따라서 complex_number라는 리스트의 0번 인덱스를 복소수 a+bj에서의 a, 1번 인덱스를 b임을 알고, 각각을 제곱하여 더한 값을 math library의 sqrt를 사용하여 근을 구하여 return한다.\n",
    "    * phase 함수\n",
    "        * complex_number라는 리스트의 0번 인덱스를 복소수 a+bj에서의 a, 1번 인덱스를 b이므로 b/a한 것을 math library의 arctan에 넣는다.\n",
    "        * math library의 arctan()의 값은 호도법으로 구해진다.\n",
    "        * 각도에서 radian값의 𝜋는 60분법의 180도이므로 위 값을 𝜋=3.141592로 나누고 180을 곱하여 60분법 값을 구하고 이를 return한다.\n",
    "\n",
    "\n",
    "* class Complex의 정의\n",
    "    * init을 이용하여 초기화한다.\n",
    "        * Class Complex인 self를 요소가 두개인 Complex_number라는 이름의 list의 형태로 받는다.\n",
    "        * self에 real 부분(실수부)과 img(허수부)를 각각 Complex_number의 0번 인덱스와 1번 인덱스의 값을 갖도록 지정한다.\n",
    "    * str을 이용하여 출력 형태를 지정한다.\n",
    "         * str(self.real) + str(self.img)+\"j\"를 써서 기본적인 형태를 지정한다.\n",
    "         * self.img가 0일 때 불필요한 부분이 출력되는 점, 양수일 때 실수부 self.real과 허수부 self.img 사이에 부호가 나타나지 않는 점을 수정한다.\n",
    "             * if문을 사용하여 self.img가 0일 때 실수부만 출력되고 허수부와 j가 출력되지 않도록 한다.\n",
    "             * else문 하에 다시 if문을 사용하여 부호 문제를 조정한다.\n",
    "                 * ch를 지정하고 초기값을 ''으로 하여 음수일 때는 따로 부호가 출력되지 않게 한다. (self.img에 부호가 함께 출력되므로)\n",
    "                 * self.img가 양수일 때는 ch='+'로 바꾸어 self.real과 self.img 사이에 +가 출력되도록 한다.\n",
    "                 * self.real과 self.img 사이에 ch를 추가하여 return한다.\n",
    "    * add 함수\n",
    "         * 출력할 complex number의 실수부 new_real과 허수부 new_img를 지정한다.\n",
    "             * new_real은 self와 other 각각의 실수부의 합으로 정한다.(new_real=self.real+other.real)\n",
    "             * new_img는 self와 other 각각의 허수부의 합으로 정한다.(new_img=self.img+other.img)\n",
    "         * complex_number class인 list를 return한다.\n",
    "             * 이때 list의 0번 인덱스는 실수부이므로 new_real이고, 1번 인덱스는 허수부이므로 new_img이다.\n",
    "    * sub 함수\n",
    "         * 출력할 complex number의 실수부 new_real과 허수부 new_img를 지정한다.\n",
    "             * new_real은 self와 other 각각의 실수부의 차로 정한다.(new_real=self.real-other.real)\n",
    "             * new_img는 self와 other 각각의 허수부의 차로 정한다.(new_img=self.img-other.img)\n",
    "         * complex_number class인 list를 return한다.(각각의 index는 add함수에서와 같다.)\n",
    "    * mul 함수\n",
    "        *  출력할 complex number의 실수부 new_real과 허수부 new_img를 지정한다.\n",
    "            * new_real은 (self와 other의 실수부의 곱)-(self와 other의 허수부의 곱)으로 정한다.\n",
    "            * new_img는 (self의 실수부와 other의 허수부의 곱)+(self의 허수부와 other의 실수부의 곱)으로 정한다.\n",
    "        * complex_number class인 list를 return한다.(각각의 index는 add함수에서와 같다.)\n",
    "    * eq, ne 함수 (동등 여부 함수)\n",
    "        * self와 other의 실수부를 각각, 허수부를 각각 비교한다.\n",
    "            * eq 함수에서는 self의 실수부와 other의 실수부가 같고, self의 허수부와 other의 허수부 또한 같을 때 True의 값을 갖는다.\n",
    "            * ne 함수에서는 self의 실수부와 other의 실수부가 다르거나, self의 허수부와 other의 허수부가 다르면 True의 값을 갖는다.\n",
    "    * lt, le, gt, ge 함수 (크기비교 함수)\n",
    "        * complex_number의 크기 비교는 조건에 따라 magnitude 함수에 넣어 그 값을 비교한다.\n",
    "        * 받은 self와 other를 각각 list a와 list b의 형태로 변환(각각의 list에서 index 0에 .real, index 1에 .img를 넣는다.)하여 magnitude 함수에 넣어 그 값을 비교한다.\n",
    "         \n",
    "         \n",
    "#### Discussion\n",
    "* 실행시킨 값에서 magnitude(c1)과 phase(c1)의 값이 미리 주어진 자료와 다르게 나온다.\n",
    "    * magnitude(c1)\n",
    "       * \"** (0.5)\"를 하고 \"** 2\"를 하는 과정에서 근사값을 다시 제곱하게 되므로 실제 계산값과 다르게 나온다.\n",
    "    * phase(c1)\n",
    "       * math.arctan()를 사용하면 그 근사값이 나오므로 값이 계산값과 다르게 나온다.\n",
    "        \n",
    "            →그 원인은 각 함수가 결과값을 저장할 때 그 형식의 차이인 것으로 추정되나 정확하게는 알 수 없었다."
   ]
  },
  {
   "cell_type": "code",
   "execution_count": null,
   "metadata": {},
   "outputs": [],
   "source": []
  },
  {
   "cell_type": "code",
   "execution_count": null,
   "metadata": {},
   "outputs": [],
   "source": []
  }
 ],
 "metadata": {
  "anaconda-cloud": {},
  "kernelspec": {
   "display_name": "Python 3",
   "language": "python",
   "name": "python3"
  },
  "language_info": {
   "codemirror_mode": {
    "name": "ipython",
    "version": 3
   },
   "file_extension": ".py",
   "mimetype": "text/x-python",
   "name": "python",
   "nbconvert_exporter": "python",
   "pygments_lexer": "ipython3",
   "version": "3.7.1"
  }
 },
 "nbformat": 4,
 "nbformat_minor": 1
}
